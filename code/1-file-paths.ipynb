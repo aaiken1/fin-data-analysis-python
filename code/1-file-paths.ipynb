{
 "cells": [
  {
   "cell_type": "code",
   "execution_count": 1,
   "metadata": {},
   "outputs": [],
   "source": [
    "# Bring in the packages that we need. \n",
    "import numpy as np  \n",
    "import pandas as pd  \n",
    "from pylab import plt, mpl \n",
    "\n",
    "# Set up output\n",
    "plt.style.use('seaborn')  \n",
    "mpl.rcParams['font.family'] = 'serif'  \n",
    "%config InlineBackend.figure_format = 'svg'"
   ]
  },
  {
   "cell_type": "code",
   "execution_count": 2,
   "metadata": {},
   "outputs": [],
   "source": [
    "# A relative file path is relative to your main folder. In this case, I am in fin-data-analysis-python, a folder that lives on my computer (and on Github, where you can access it).\n",
    "# You can right-click on a file in the explorer and copy either the full path or the relative path.\n",
    "# You can even read the URL for where the data lives on Github!\n",
    "\n",
    "# Full file path: /Users/adamaiken/fin-data-analysis-python/data/tr_eikon_eod_data.csv\n",
    "# Relative file path: data/tr_eikon_eod_data.csv\n",
    "\n",
    "# You should use relative paths for your local data. Why? That way, you can always have the same set-up. A main folder with code, data, output, etc. subfolders. \n",
    "# Then, you just always refer to that common set-up, without worrying exactly where the files live. \n",
    "# It is the relationship between your files that matters when using relative file paths.\n",
    "\n",
    "# You can also just use the data that I post to Github without every copying it locally!\n",
    "\n",
    "# We'll use read_csv from the Pandas package to read in the CSV file. CSV files are common ways to store data.\n",
    "\n",
    "# The code below should create three identical dataframes, using three different ways to get the same data.\n",
    "\n",
    "data_relative = pd.read_csv('../data/tr_eikon_eod_data.csv',\n",
    "                  index_col=0, parse_dates=True)  \n",
    "data_relative = pd.DataFrame(data_relative['.SPX']) \n",
    "data_relative.dropna(inplace=True)  "
   ]
  },
  {
   "cell_type": "code",
   "execution_count": 3,
   "metadata": {},
   "outputs": [
    {
     "ename": "TypeError",
     "evalue": "__init__() got an unexpected keyword argument 'data_full'",
     "output_type": "error",
     "traceback": [
      "\u001b[0;31m---------------------------------------------------------------------------\u001b[0m",
      "\u001b[0;31mTypeError\u001b[0m                                 Traceback (most recent call last)",
      "\u001b[0;32m/var/folders/sm/f4lq92s11392x68kwf0scq3w0000gn/T/ipykernel_21658/703237536.py\u001b[0m in \u001b[0;36m<module>\u001b[0;34m\u001b[0m\n\u001b[1;32m      1\u001b[0m data_full= pd.read_csv('/Users/adamaiken/fin-data-analysis-python/data/tr_eikon_eod_data.csv',\n\u001b[1;32m      2\u001b[0m                   index_col=0, parse_dates=True)  \n\u001b[0;32m----> 3\u001b[0;31m \u001b[0mdata_full\u001b[0m\u001b[0;34m=\u001b[0m \u001b[0mpd\u001b[0m\u001b[0;34m.\u001b[0m\u001b[0mDataFrame\u001b[0m\u001b[0;34m(\u001b[0m\u001b[0mdata_full\u001b[0m\u001b[0;34m=\u001b[0m\u001b[0;34m[\u001b[0m\u001b[0;34m'.SPX'\u001b[0m\u001b[0;34m]\u001b[0m\u001b[0;34m)\u001b[0m\u001b[0;34m\u001b[0m\u001b[0;34m\u001b[0m\u001b[0m\n\u001b[0m\u001b[1;32m      4\u001b[0m \u001b[0mdata_full\u001b[0m\u001b[0;34m.\u001b[0m\u001b[0mdropna\u001b[0m\u001b[0;34m(\u001b[0m\u001b[0minplace\u001b[0m\u001b[0;34m=\u001b[0m\u001b[0;32mTrue\u001b[0m\u001b[0;34m)\u001b[0m\u001b[0;34m\u001b[0m\u001b[0;34m\u001b[0m\u001b[0m\n",
      "\u001b[0;31mTypeError\u001b[0m: __init__() got an unexpected keyword argument 'data_full'"
     ]
    }
   ],
   "source": [
    "data_full= pd.read_csv('/Users/adamaiken/fin-data-analysis-python/data/tr_eikon_eod_data.csv',\n",
    "                  index_col=0, parse_dates=True)  \n",
    "data_full= pd.DataFrame(data_full=['.SPX']) \n",
    "data_full.dropna(inplace=True)  "
   ]
  },
  {
   "cell_type": "code",
   "execution_count": null,
   "metadata": {},
   "outputs": [],
   "source": [
    "data_url= pd.read_csv('https://github.com/aaiken1/fin-data-analysis-python/blob/main/data/tr_eikon_eod_data.csv',\n",
    "                  index_col=0, parse_dates=True)  \n",
    "data_url= pd.DataFrame(data_url=['.SPX']) \n",
    "data_url.dropna(inplace=True)  "
   ]
  }
 ],
 "metadata": {
  "interpreter": {
   "hash": "b67b392f8c699abfccff34ffff3abf55b26d6520ea7ac337064f990a3d8607af"
  },
  "kernelspec": {
   "display_name": "Python 3.9.7 64-bit ('base': conda)",
   "language": "python",
   "name": "python3"
  },
  "language_info": {
   "codemirror_mode": {
    "name": "ipython",
    "version": 3
   },
   "file_extension": ".py",
   "mimetype": "text/x-python",
   "name": "python",
   "nbconvert_exporter": "python",
   "pygments_lexer": "ipython3",
   "version": "3.9.7"
  },
  "orig_nbformat": 4
 },
 "nbformat": 4,
 "nbformat_minor": 2
}
