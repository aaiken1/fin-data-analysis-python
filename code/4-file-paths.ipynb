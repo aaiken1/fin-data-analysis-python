{
 "cells": [
  {
   "cell_type": "markdown",
   "metadata": {},
   "source": [
    "# Reading in our data: Absolute and relative file paths\n",
    "\n",
    "We use the `pandas` library to read in data, like a .csv file, to Python. In this example, we will use the `pd.read_csv()` method. \n",
    "\n",
    "You can find more at this [Datacamp tutorial](https://www.datacamp.com/community/tutorials/pandas-read-csv). \n",
    "\n",
    "Note I am mixing Markdown and code comments in this notebook. Just trying to get you use to both. Code comments are for you and others who will be looking at the code. Markdown lets us write-up more formal reports."
   ]
  },
  {
   "cell_type": "code",
   "execution_count": 1,
   "metadata": {},
   "outputs": [],
   "source": [
    "# Bring in the packages that we need. \n",
    "import numpy as np  \n",
    "import pandas as pd  \n",
    "from pylab import plt, mpl \n",
    "\n",
    "# Set up output\n",
    "plt.style.use('seaborn')  \n",
    "mpl.rcParams['font.family'] = 'serif'  \n",
    "%config InlineBackend.figure_format = 'svg'"
   ]
  },
  {
   "cell_type": "code",
   "execution_count": 2,
   "metadata": {},
   "outputs": [],
   "source": [
    "# A relative file path is relative to your main folder. In this case, I am in fin-data-analysis-python, a folder that lives on my computer (and on Github, where you can access it).\n",
    "# You can right-click on a file in the explorer and copy either the full path or the relative path.\n",
    "# You can even read the URL for where the data lives on Github!\n",
    "\n",
    "# Full file path: /Users/adamaiken/fin-data-analysis-python/data/tr_eikon_eod_data.csv\n",
    "# Relative file path: data/tr_eikon_eod_data.csv\n",
    "\n",
    "# You should use relative paths for your local data. Why? That way, you can always have the same set-up. A main folder with code, data, output, etc. subfolders. \n",
    "# Then, you just always refer to that common set-up, without worrying exactly where the files live. \n",
    "# It is the relationship between your files that matters when using relative file paths.\n",
    "\n",
    "# You can also just use the data that I post to Github without every copying it locally! You have to click around a bit to get the right \"raw\" URL though.\n",
    "\n",
    "# We'll use read_csv from the Pandas package to read in the CSV file. CSV files are common ways to store data.\n",
    "\n",
    "# The code below should create three identical dataframes, with all of the tickers, using three different ways to get the same data. I then subset and create three identical dataframes with just the SPX.\n",
    "\n",
    "data_r = pd.read_csv('../data/tr_eikon_eod_data.csv', index_col=0, parse_dates=True)  \n",
    "data_r_spx = pd.DataFrame(data_r['.SPX'])\n",
    "data_r_spx.dropna(inplace=True) \n",
    "\n",
    " "
   ]
  },
  {
   "cell_type": "code",
   "execution_count": 3,
   "metadata": {},
   "outputs": [],
   "source": [
    "data_f = pd.read_csv('/Users/adamaiken/fin-data-analysis-python/data/tr_eikon_eod_data.csv',\n",
    "                  index_col=0, parse_dates=True)  \n",
    "data_f_spx = pd.DataFrame(data_f['.SPX'])\n",
    "data_f_spx.dropna(inplace=True) \n",
    "  "
   ]
  },
  {
   "cell_type": "code",
   "execution_count": 4,
   "metadata": {},
   "outputs": [],
   "source": [
    "data_u = pd.read_csv('https://raw.githubusercontent.com/aaiken1/fin-data-analysis-python/main/data/tr_eikon_eod_data.csv',\n",
    "                  index_col=0, parse_dates=True)  \n",
    "data_u_spx = pd.DataFrame(data_u['.SPX'])\n",
    "data_u_spx.dropna(inplace=True) \n"
   ]
  },
  {
   "cell_type": "code",
   "execution_count": 5,
   "metadata": {},
   "outputs": [
    {
     "name": "stdout",
     "output_type": "stream",
     "text": [
      "True\n"
     ]
    }
   ],
   "source": [
    "# We can even test if two data frames are the same! This is like automatically seeing if two Excel worksheets are identical. Very cool!\n",
    "\n",
    "# The pd.DataFrame.equals() method does this for us. \n",
    "\n",
    "# Are they the same? You can change the file names to test the others!\n",
    "print(pd.DataFrame.equals(data_r, data_f))"
   ]
  },
  {
   "cell_type": "code",
   "execution_count": 6,
   "metadata": {},
   "outputs": [
    {
     "name": "stdout",
     "output_type": "stream",
     "text": [
      "True\n"
     ]
    }
   ],
   "source": [
    "print(pd.DataFrame.equals(data_r_spx, data_f_spx))"
   ]
  }
 ],
 "metadata": {
  "interpreter": {
   "hash": "b67b392f8c699abfccff34ffff3abf55b26d6520ea7ac337064f990a3d8607af"
  },
  "kernelspec": {
   "display_name": "Python 3.9.7 64-bit ('base': conda)",
   "language": "python",
   "name": "python3"
  },
  "language_info": {
   "codemirror_mode": {
    "name": "ipython",
    "version": 3
   },
   "file_extension": ".py",
   "mimetype": "text/x-python",
   "name": "python",
   "nbconvert_exporter": "python",
   "pygments_lexer": "ipython3",
   "version": "3.9.7"
  },
  "orig_nbformat": 4
 },
 "nbformat": 4,
 "nbformat_minor": 2
}
