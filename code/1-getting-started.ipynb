{
 "cells": [
  {
   "cell_type": "markdown",
   "metadata": {},
   "source": [
    "# Jupyter Notebooks, Markdown, and a Little Python\n",
    "\n",
    "Go to the [VS Code Jupyter page](https://code.visualstudio.com/docs/python/jupyter-support-py) for more. Also, see how I put that link in the text? Welcome to Markdown!\n",
    "\n",
    "This is an example of a Jupyter notebook using Python and Markdown. Note the file extension - .ipynb. Jupyter notebooks use to be called iPython notebooks.IPython\n",
    "\n",
    "This is a Markdown **cell**. How do I know? Look in the lower left - it should say Markdown. You can click there and change it to Python if you wanted too. \n",
    "\n",
    "You can format text in this cell using \"code\". So, here's **bold**. And some *italics*. Our online notes have several resources for you to look at.\n",
    "\n",
    "You can create a new Jupyter Notebook in VS Code by hitting Command-Shift-P. This brings up the **command palette**. Search for *Jupyter*. You can also find it under View::Command Palette\n",
    "\n",
    "See the checkmark in the upper right? Click it to see what the formatted next looks like. Then, click this cell to get back to the code. You can also click the **edit** button, which looks like a pen. "
   ]
  },
  {
   "cell_type": "markdown",
   "metadata": {},
   "source": [
    "## Buttons at the top\n",
    "\n",
    "Click the **+ Code** button at the top to add a code cell. Make sure it is Python - again, you'll see that in the lower right of this cell. Click the **+ Markdown** button to add a Markdown cell.\n",
    "\n",
    "Your labs, exams, and projects are going to be a mix of Markdown and Python. Run some code, show a graph, write-up your results in a nicely formatted way.\n",
    "\n",
    "The **Run All** button will run all of your cells, Markdown and Python.\n",
    "\n",
    "**Restart** clears your Python kernal. This means that all of your work, like data imported, variables created, etc. will be deleted. It **does not** affect your code. You can always just re-run things.\n",
    "\n",
    "**Variables** let's you see any data that you've imported. A window will open down below. We don't have any right now. "
   ]
  },
  {
   "cell_type": "markdown",
   "metadata": {},
   "source": [
    "## Outline\n",
    "\n",
    "See in the lower left of VS Code? I am using the Markdown tags `#` and `##` to create headers. VS Code then uses these to make a nice outline of my project. "
   ]
  },
  {
   "cell_type": "markdown",
   "metadata": {},
   "source": [
    "## Extensions\n",
    "\n",
    "You can access extensions in the bar on the left or under View:Extensions or with Command-Shift-X. See our notes for more."
   ]
  },
  {
   "cell_type": "markdown",
   "metadata": {},
   "source": [
    "## Explorer\n",
    "\n",
    "This is where you'll see your current files and folders. The top button on the left gets you there, as does Command-Shift-E. \n",
    "\n",
    "I usually **start by opening a folder under File**. This gets what I want in the Explorer window."
   ]
  },
  {
   "cell_type": "markdown",
   "metadata": {},
   "source": [
    "## Organizing your files for this class\n",
    "\n",
    "Our online notes have information on how to organize your work."
   ]
  },
  {
   "cell_type": "markdown",
   "metadata": {},
   "source": [
    "## Our first Python code in a Jupyter Notebook\n",
    "\n",
    "Let's look at some **data types**. This material is found in Chapter 3 of our text. This is the kind of stuff you see on the first day of Comp Sci 101. Integers, floats, booleans, and strings! This is how computers \"think\" about our data.\n",
    "\n",
    "Put your cursor in the cell below. The **play button** on the left will execute just that cell. There are other options on the right to execute all of the cells above or below the one you're in. You can also **delete** the cell. And many other options under the triple dots."
   ]
  },
  {
   "cell_type": "code",
   "execution_count": 4,
   "metadata": {},
   "outputs": [
    {
     "data": {
      "text/plain": [
       "int"
      ]
     },
     "execution_count": 4,
     "metadata": {},
     "output_type": "execute_result"
    }
   ],
   "source": [
    "a = 10\n",
    "type(a)"
   ]
  },
  {
   "cell_type": "code",
   "execution_count": 1,
   "metadata": {},
   "outputs": [
    {
     "data": {
      "text/plain": [
       "float"
      ]
     },
     "execution_count": 1,
     "metadata": {},
     "output_type": "execute_result"
    }
   ],
   "source": [
    "b = 0.35\n",
    "type(b)"
   ]
  },
  {
   "cell_type": "code",
   "execution_count": 5,
   "metadata": {},
   "outputs": [
    {
     "data": {
      "text/plain": [
       "True"
      ]
     },
     "execution_count": 5,
     "metadata": {},
     "output_type": "execute_result"
    }
   ],
   "source": [
    "4 > 3 "
   ]
  },
  {
   "cell_type": "markdown",
   "metadata": {},
   "source": [
    "Note that you only get the last output from a cell. See below."
   ]
  },
  {
   "cell_type": "code",
   "execution_count": 6,
   "metadata": {},
   "outputs": [
    {
     "data": {
      "text/plain": [
       "bool"
      ]
     },
     "execution_count": 6,
     "metadata": {},
     "output_type": "execute_result"
    }
   ],
   "source": [
    "4 > 3\n",
    "type(4>3)"
   ]
  },
  {
   "cell_type": "markdown",
   "metadata": {},
   "source": [
    "Want to change this behavior? Check this out from [StackOverflow](https://stackoverflow.com/questions/34398054/ipython-notebook-cell-multiple-outputs)."
   ]
  },
  {
   "cell_type": "code",
   "execution_count": 7,
   "metadata": {},
   "outputs": [
    {
     "name": "stdout",
     "output_type": "stream",
     "text": [
      "Python for Finance\n"
     ]
    }
   ],
   "source": [
    "print('Python for Finance') "
   ]
  },
  {
   "cell_type": "code",
   "execution_count": 8,
   "metadata": {},
   "outputs": [
    {
     "data": {
      "text/plain": [
       "str"
      ]
     },
     "execution_count": 8,
     "metadata": {},
     "output_type": "execute_result"
    }
   ],
   "source": [
    "type('Python for Finance')"
   ]
  }
 ],
 "metadata": {
  "interpreter": {
   "hash": "b67b392f8c699abfccff34ffff3abf55b26d6520ea7ac337064f990a3d8607af"
  },
  "kernelspec": {
   "display_name": "Python 3.9.7 64-bit ('base': conda)",
   "language": "python",
   "name": "python3"
  },
  "language_info": {
   "codemirror_mode": {
    "name": "ipython",
    "version": 3
   },
   "file_extension": ".py",
   "mimetype": "text/x-python",
   "name": "python",
   "nbconvert_exporter": "python",
   "pygments_lexer": "ipython3",
   "version": "3.9.7"
  },
  "orig_nbformat": 4
 },
 "nbformat": 4,
 "nbformat_minor": 2
}
