{
 "cells": [
  {
   "cell_type": "code",
   "execution_count": 1,
   "metadata": {},
   "outputs": [
    {
     "data": {
      "text/html": [
       "<div>\n",
       "<style scoped>\n",
       "    .dataframe tbody tr th:only-of-type {\n",
       "        vertical-align: middle;\n",
       "    }\n",
       "\n",
       "    .dataframe tbody tr th {\n",
       "        vertical-align: top;\n",
       "    }\n",
       "\n",
       "    .dataframe thead th {\n",
       "        text-align: right;\n",
       "    }\n",
       "</style>\n",
       "<table border=\"1\" class=\"dataframe\">\n",
       "  <thead>\n",
       "    <tr style=\"text-align: right;\">\n",
       "      <th></th>\n",
       "      <th>INCIDENT_NUMBER</th>\n",
       "      <th>OFFENSE_CODE</th>\n",
       "      <th>OFFENSE_CODE_GROUP</th>\n",
       "      <th>OFFENSE_DESCRIPTION</th>\n",
       "      <th>DISTRICT</th>\n",
       "      <th>REPORTING_AREA</th>\n",
       "      <th>SHOOTING</th>\n",
       "      <th>OCCURRED_ON_DATE</th>\n",
       "      <th>YEAR</th>\n",
       "      <th>MONTH</th>\n",
       "      <th>DAY_OF_WEEK</th>\n",
       "      <th>HOUR</th>\n",
       "      <th>UCR_PART</th>\n",
       "      <th>STREET</th>\n",
       "      <th>Lat</th>\n",
       "      <th>Long</th>\n",
       "      <th>Location</th>\n",
       "    </tr>\n",
       "  </thead>\n",
       "  <tbody>\n",
       "    <tr>\n",
       "      <th>0</th>\n",
       "      <td>I192077559</td>\n",
       "      <td>3115</td>\n",
       "      <td>Investigate Person</td>\n",
       "      <td>INVESTIGATE PERSON</td>\n",
       "      <td>B3</td>\n",
       "      <td>468</td>\n",
       "      <td>NaN</td>\n",
       "      <td>2018-04-30 09:00:00</td>\n",
       "      <td>2018</td>\n",
       "      <td>4</td>\n",
       "      <td>Monday</td>\n",
       "      <td>9</td>\n",
       "      <td>Part Three</td>\n",
       "      <td>HAZLETON ST</td>\n",
       "      <td>42.279971</td>\n",
       "      <td>-71.095534</td>\n",
       "      <td>(42.27997063, -71.09553354)</td>\n",
       "    </tr>\n",
       "    <tr>\n",
       "      <th>1</th>\n",
       "      <td>I192077332</td>\n",
       "      <td>619</td>\n",
       "      <td>Larceny</td>\n",
       "      <td>LARCENY ALL OTHERS</td>\n",
       "      <td>E18</td>\n",
       "      <td>496</td>\n",
       "      <td>NaN</td>\n",
       "      <td>2018-03-06 08:00:00</td>\n",
       "      <td>2018</td>\n",
       "      <td>3</td>\n",
       "      <td>Tuesday</td>\n",
       "      <td>8</td>\n",
       "      <td>Part One</td>\n",
       "      <td>HYDE PARK AVE</td>\n",
       "      <td>42.269224</td>\n",
       "      <td>-71.120853</td>\n",
       "      <td>(42.26922388, -71.12085347)</td>\n",
       "    </tr>\n",
       "    <tr>\n",
       "      <th>2</th>\n",
       "      <td>I192076660</td>\n",
       "      <td>2629</td>\n",
       "      <td>Harassment</td>\n",
       "      <td>HARASSMENT</td>\n",
       "      <td>E5</td>\n",
       "      <td>662</td>\n",
       "      <td>NaN</td>\n",
       "      <td>2018-10-31 12:00:00</td>\n",
       "      <td>2018</td>\n",
       "      <td>10</td>\n",
       "      <td>Wednesday</td>\n",
       "      <td>12</td>\n",
       "      <td>Part Two</td>\n",
       "      <td>PRIMROSE ST</td>\n",
       "      <td>42.290765</td>\n",
       "      <td>-71.130211</td>\n",
       "      <td>(42.29076521, -71.13021098)</td>\n",
       "    </tr>\n",
       "    <tr>\n",
       "      <th>3</th>\n",
       "      <td>I192075386</td>\n",
       "      <td>2629</td>\n",
       "      <td>Harassment</td>\n",
       "      <td>HARASSMENT</td>\n",
       "      <td>A1</td>\n",
       "      <td>96</td>\n",
       "      <td>NaN</td>\n",
       "      <td>2018-04-09 08:43:00</td>\n",
       "      <td>2018</td>\n",
       "      <td>4</td>\n",
       "      <td>Monday</td>\n",
       "      <td>8</td>\n",
       "      <td>Part Two</td>\n",
       "      <td>ATLANTIC AVE</td>\n",
       "      <td>42.355264</td>\n",
       "      <td>-71.050988</td>\n",
       "      <td>(42.35526402, -71.05098788)</td>\n",
       "    </tr>\n",
       "    <tr>\n",
       "      <th>4</th>\n",
       "      <td>I192075335</td>\n",
       "      <td>3208</td>\n",
       "      <td>Property Lost</td>\n",
       "      <td>PROPERTY - MISSING</td>\n",
       "      <td>D4</td>\n",
       "      <td>132</td>\n",
       "      <td>NaN</td>\n",
       "      <td>2018-01-01 00:00:00</td>\n",
       "      <td>2018</td>\n",
       "      <td>1</td>\n",
       "      <td>Monday</td>\n",
       "      <td>0</td>\n",
       "      <td>Part Three</td>\n",
       "      <td>COMMONWEALTH AVE</td>\n",
       "      <td>42.353522</td>\n",
       "      <td>-71.072838</td>\n",
       "      <td>(42.35352153, -71.07283786)</td>\n",
       "    </tr>\n",
       "  </tbody>\n",
       "</table>\n",
       "</div>"
      ],
      "text/plain": [
       "  INCIDENT_NUMBER  OFFENSE_CODE  OFFENSE_CODE_GROUP OFFENSE_DESCRIPTION  \\\n",
       "0      I192077559          3115  Investigate Person  INVESTIGATE PERSON   \n",
       "1      I192077332           619             Larceny  LARCENY ALL OTHERS   \n",
       "2      I192076660          2629          Harassment          HARASSMENT   \n",
       "3      I192075386          2629          Harassment          HARASSMENT   \n",
       "4      I192075335          3208       Property Lost  PROPERTY - MISSING   \n",
       "\n",
       "  DISTRICT REPORTING_AREA SHOOTING     OCCURRED_ON_DATE  YEAR  MONTH  \\\n",
       "0       B3            468      NaN  2018-04-30 09:00:00  2018      4   \n",
       "1      E18            496      NaN  2018-03-06 08:00:00  2018      3   \n",
       "2       E5            662      NaN  2018-10-31 12:00:00  2018     10   \n",
       "3       A1             96      NaN  2018-04-09 08:43:00  2018      4   \n",
       "4       D4            132      NaN  2018-01-01 00:00:00  2018      1   \n",
       "\n",
       "  DAY_OF_WEEK  HOUR    UCR_PART            STREET        Lat       Long  \\\n",
       "0      Monday     9  Part Three       HAZLETON ST  42.279971 -71.095534   \n",
       "1     Tuesday     8    Part One     HYDE PARK AVE  42.269224 -71.120853   \n",
       "2   Wednesday    12    Part Two       PRIMROSE ST  42.290765 -71.130211   \n",
       "3      Monday     8    Part Two      ATLANTIC AVE  42.355264 -71.050988   \n",
       "4      Monday     0  Part Three  COMMONWEALTH AVE  42.353522 -71.072838   \n",
       "\n",
       "                      Location  \n",
       "0  (42.27997063, -71.09553354)  \n",
       "1  (42.26922388, -71.12085347)  \n",
       "2  (42.29076521, -71.13021098)  \n",
       "3  (42.35526402, -71.05098788)  \n",
       "4  (42.35352153, -71.07283786)  "
      ]
     },
     "execution_count": 1,
     "metadata": {},
     "output_type": "execute_result"
    }
   ],
   "source": [
    "import numpy as np \n",
    "import pandas as pd \n",
    "import gmaps \n",
    "import gmaps.datasets\n",
    "\n",
    "crime = pd.read_csv('https://raw.githubusercontent.com/aaiken1/fin-data-analysis-python/main/data/crime-incident-reports-2018.csv')\n",
    "\n",
    "crime.head()"
   ]
  },
  {
   "cell_type": "code",
   "execution_count": 2,
   "metadata": {},
   "outputs": [],
   "source": [
    "Lon = np.arange(-71.21, -71, 0.0021) \n",
    "Lat = np.arange(42.189, 42.427, 0.00238) \n",
    "\n",
    "Crime_counts = np.zeros((100,100))\n",
    "\n",
    "crime_2018 = crime[crime['YEAR'] == 2018] "
   ]
  },
  {
   "cell_type": "code",
   "execution_count": 3,
   "metadata": {},
   "outputs": [],
   "source": [
    "for a in range(len(crime_2018)):\n",
    "    for b1 in range(100):\n",
    "        if Lat[b1] - 0.00105 <= crime_2018['Lat'].values[a] < Lat[b1] + 0.00105:\n",
    "            for b2 in range(100): \n",
    "                if Lon[b2] - 0.00119 <= crime_2018['Long'].values[a] < Lon[b2] + 0.00119:\n",
    "                    Crime_counts[b1,b2] += 1"
   ]
  },
  {
   "cell_type": "code",
   "execution_count": 4,
   "metadata": {},
   "outputs": [],
   "source": [
    "longitude_values = [Lon,]*100 \n",
    "latitude_values = np.repeat(Lat,100) \n",
    "Crime_counts.resize((10000,)) "
   ]
  },
  {
   "cell_type": "code",
   "execution_count": 5,
   "metadata": {},
   "outputs": [],
   "source": [
    "heatmap_data = {'Counts': Crime_counts, 'latitude': latitude_values, 'longitude' : np.concatenate(longitude_values)}"
   ]
  },
  {
   "cell_type": "code",
   "execution_count": 12,
   "metadata": {},
   "outputs": [
    {
     "data": {
      "text/plain": [
       "array([0., 0., 0., ..., 0., 0., 0.])"
      ]
     },
     "execution_count": 12,
     "metadata": {},
     "output_type": "execute_result"
    }
   ],
   "source": [
    "heatmap_data['Counts']"
   ]
  },
  {
   "cell_type": "code",
   "execution_count": 6,
   "metadata": {},
   "outputs": [],
   "source": [
    "df = pd.DataFrame(data=heatmap_data)"
   ]
  },
  {
   "cell_type": "code",
   "execution_count": 7,
   "metadata": {},
   "outputs": [],
   "source": [
    "locations = df[['latitude', 'longitude']]\n",
    "weights = df['Counts']"
   ]
  },
  {
   "cell_type": "code",
   "execution_count": 13,
   "metadata": {},
   "outputs": [
    {
     "ename": "TypeError",
     "evalue": "'type' object is not subscriptable",
     "output_type": "error",
     "traceback": [
      "\u001b[0;31m---------------------------------------------------------------------------\u001b[0m",
      "\u001b[0;31mTypeError\u001b[0m                                 Traceback (most recent call last)",
      "\u001b[0;32m/var/folders/sm/f4lq92s11392x68kwf0scq3w0000gn/T/ipykernel_11921/1843169073.py\u001b[0m in \u001b[0;36m<module>\u001b[0;34m\u001b[0m\n\u001b[0;32m----> 1\u001b[0;31m \u001b[0mweights\u001b[0m \u001b[0;34m=\u001b[0m \u001b[0mpd\u001b[0m\u001b[0;34m.\u001b[0m\u001b[0mDataFrame\u001b[0m\u001b[0;34m[\u001b[0m\u001b[0mCrime_counts\u001b[0m\u001b[0;34m]\u001b[0m\u001b[0;34m\u001b[0m\u001b[0;34m\u001b[0m\u001b[0m\n\u001b[0m",
      "\u001b[0;31mTypeError\u001b[0m: 'type' object is not subscriptable"
     ]
    }
   ],
   "source": []
  }
 ],
 "metadata": {
  "interpreter": {
   "hash": "b67b392f8c699abfccff34ffff3abf55b26d6520ea7ac337064f990a3d8607af"
  },
  "kernelspec": {
   "display_name": "Python 3.9.7 ('base')",
   "language": "python",
   "name": "python3"
  },
  "language_info": {
   "codemirror_mode": {
    "name": "ipython",
    "version": 3
   },
   "file_extension": ".py",
   "mimetype": "text/x-python",
   "name": "python",
   "nbconvert_exporter": "python",
   "pygments_lexer": "ipython3",
   "version": "3.9.7"
  },
  "orig_nbformat": 4
 },
 "nbformat": 4,
 "nbformat_minor": 2
}
