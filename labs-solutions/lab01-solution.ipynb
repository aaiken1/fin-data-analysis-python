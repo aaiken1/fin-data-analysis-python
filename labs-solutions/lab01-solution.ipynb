{
 "cells": [
  {
   "attachments": {},
   "cell_type": "markdown",
   "metadata": {},
   "source": [
    " # Lab 1\n",
    "\n",
    "**Adam Aiken**\n",
    "\n",
    "February 14th, 2025\n",
    "\n",
    "I will go through the lab below, using a mix of Python and Markdown. Experiment with Markdown in these labs. Try making things **bold**. Or *italics*. Try adding a [URL link](https://aaiken1.github.io)."
   ]
  },
  {
   "cell_type": "markdown",
   "metadata": {},
   "source": [
    "## Part 3\n",
    "\n",
    "I like to have new Markdown chunks for each question. I'm using `##` for my sub-headers."
   ]
  },
  {
   "cell_type": "code",
   "execution_count": 1,
   "metadata": {},
   "outputs": [
    {
     "name": "stdout",
     "output_type": "stream",
     "text": [
      "Capital Asset Pricing Model\n"
     ]
    }
   ],
   "source": [
    "formula_string = 'Capital Asset Pricing Model'\n",
    "print(formula_string)"
   ]
  },
  {
   "cell_type": "code",
   "execution_count": 2,
   "metadata": {},
   "outputs": [
    {
     "data": {
      "text/plain": [
       "str"
      ]
     },
     "execution_count": 2,
     "metadata": {},
     "output_type": "execute_result"
    }
   ],
   "source": [
    "type(formula_string)"
   ]
  },
  {
   "cell_type": "markdown",
   "metadata": {},
   "source": [
    "## Part 4\n",
    "\n",
    "An even better way might be to define each piece of the formula. So, `FV = 100`, etc. But, I wanted to show you that you can use Python like a formula. \n",
    "\n",
    "Don't try guessing - there's no way to know that `**` means exponent, unless you've coded before."
   ]
  },
  {
   "cell_type": "code",
   "execution_count": 3,
   "metadata": {},
   "outputs": [
    {
     "data": {
      "text/plain": [
       "float"
      ]
     },
     "execution_count": 3,
     "metadata": {},
     "output_type": "execute_result"
    }
   ],
   "source": [
    "pv = 100/(1+0.05)**2\n",
    "type(pv)"
   ]
  },
  {
   "cell_type": "code",
   "execution_count": 4,
   "metadata": {},
   "outputs": [
    {
     "name": "stdout",
     "output_type": "stream",
     "text": [
      "Present Value: $90.70\n"
     ]
    }
   ],
   "source": [
    "print(\"Present Value: $%.2f\" % pv)"
   ]
  },
  {
   "cell_type": "markdown",
   "metadata": {},
   "source": [
    "## Part 5\n",
    "\n",
    "Lists are very useful and come up a lot. Notice how you can mix types inside the list. "
   ]
  },
  {
   "cell_type": "code",
   "execution_count": 5,
   "metadata": {},
   "outputs": [
    {
     "name": "stdout",
     "output_type": "stream",
     "text": [
      "AAPL\n"
     ]
    }
   ],
   "source": [
    "stock = [\"Apple Inc.\", \"AAPL\", 172.39]\n",
    "type(stock)\n",
    "print(stock[1])"
   ]
  },
  {
   "cell_type": "markdown",
   "metadata": {},
   "source": [
    "This works too to get an item out."
   ]
  },
  {
   "cell_type": "code",
   "execution_count": 6,
   "metadata": {},
   "outputs": [
    {
     "data": {
      "text/plain": [
       "'AAPL'"
      ]
     },
     "execution_count": 6,
     "metadata": {},
     "output_type": "execute_result"
    }
   ],
   "source": [
    "stock[1]"
   ]
  },
  {
   "cell_type": "markdown",
   "metadata": {},
   "source": [
    "To save the item, I'd need to use an `=` and define a new variable."
   ]
  },
  {
   "cell_type": "code",
   "execution_count": 7,
   "metadata": {},
   "outputs": [
    {
     "data": {
      "text/plain": [
       "'AAPL'"
      ]
     },
     "execution_count": 7,
     "metadata": {},
     "output_type": "execute_result"
    }
   ],
   "source": [
    "s = stock[1]\n",
    "s"
   ]
  },
  {
   "cell_type": "markdown",
   "metadata": {},
   "source": [
    "## Part 6\n",
    "\n",
    "Watch your syntax with control structures. You need the `:`. And the correct indentation. Again, don't try to guess! Computers are literal. They aren't going to guess what you mean."
   ]
  },
  {
   "cell_type": "code",
   "execution_count": 8,
   "metadata": {},
   "outputs": [
    {
     "name": "stdout",
     "output_type": "stream",
     "text": [
      "Add stock to buy list.\n"
     ]
    }
   ],
   "source": [
    "StockPercentile = 90\n",
    "\n",
    "if StockPercentile >= 90:\n",
    "    print('Add stock to buy list.')"
   ]
  },
  {
   "cell_type": "code",
   "execution_count": 9,
   "metadata": {},
   "outputs": [
    {
     "name": "stdout",
     "output_type": "stream",
     "text": [
      "Exclude stock.\n"
     ]
    }
   ],
   "source": [
    "StockPercentile = 80\n",
    "\n",
    "if StockPercentile >= 90:\n",
    "    print('Add stock to buy list.')\n",
    "else: \n",
    "    print('Exclude stock.')"
   ]
  },
  {
   "attachments": {},
   "cell_type": "markdown",
   "metadata": {},
   "source": [
    "For this question, note that the order the statements matters, depending on how you wrote your `if`, `elif`, and `else`. If you have `StockPercentile >= 90`, you'll get a `true` and exit."
   ]
  },
  {
   "cell_type": "code",
   "execution_count": 10,
   "metadata": {},
   "outputs": [
    {
     "name": "stdout",
     "output_type": "stream",
     "text": [
      "Check calculations.\n"
     ]
    }
   ],
   "source": [
    "StockPercentile = 110\n",
    "\n",
    "if StockPercentile > 100:\n",
    "    print('Check calculations.')\n",
    "elif StockPercentile >= 90:\n",
    "    print('Add stock to buy list.')\n",
    "else: \n",
    "    print('Exclude stock.')"
   ]
  },
  {
   "attachments": {},
   "cell_type": "markdown",
   "metadata": {},
   "source": [
    "You could also write the statements like this so that the order does not matter."
   ]
  },
  {
   "cell_type": "code",
   "execution_count": 11,
   "metadata": {},
   "outputs": [
    {
     "name": "stdout",
     "output_type": "stream",
     "text": [
      "Check calculations.\n"
     ]
    }
   ],
   "source": [
    "StockPercentile = 110\n",
    "\n",
    "if StockPercentile > 100:\n",
    "    print('Check calculations.')\n",
    "elif 90 <= StockPercentile <= 100:\n",
    "    print('Add stock to buy list.')\n",
    "else: \n",
    "    print('Exclude stock.')"
   ]
  },
  {
   "cell_type": "markdown",
   "metadata": {},
   "source": [
    "## Part 7"
   ]
  },
  {
   "cell_type": "code",
   "execution_count": 12,
   "metadata": {},
   "outputs": [
    {
     "name": "stdout",
     "output_type": "stream",
     "text": [
      "Counting down... 10\n",
      "Counting down... 9\n",
      "Counting down... 8\n",
      "Counting down... 7\n",
      "Counting down... 6\n",
      "Counting down... 5\n",
      "Counting down... 4\n",
      "Counting down... 3\n",
      "Counting down... 2\n",
      "Counting down... 1\n",
      "Blastoff!\n"
     ]
    }
   ],
   "source": [
    "i = 10\n",
    "\n",
    "while i >= 1:\n",
    "    print('Counting down... %d' % i)\n",
    "    i -= 1\n",
    "print('Blastoff!')"
   ]
  },
  {
   "cell_type": "markdown",
   "metadata": {},
   "source": [
    "## Part 8\n",
    "\n",
    "This is where we bring in `numpy`. I'm doing my `import` statement here. Normally, we put these up at the top of our code. We'll have many different bits of \"starter\" code as we go. \n",
    "\n",
    "Make sure you can follow the logic of indexing. Selecting items out of arrays, lists, and data frames is part of the day-to-day coding when dealing with data. "
   ]
  },
  {
   "cell_type": "code",
   "execution_count": 13,
   "metadata": {},
   "outputs": [
    {
     "data": {
      "text/plain": [
       "array([  5,  10,  15,  20,  25,  30,  35,  40,  45,  50,  55,  60,  65,\n",
       "        70,  75,  80,  85,  90,  95, 100])"
      ]
     },
     "execution_count": 13,
     "metadata": {},
     "output_type": "execute_result"
    }
   ],
   "source": [
    "import numpy as np\n",
    "\n",
    "a = np.arange(5, 105, 5)\n",
    "a"
   ]
  },
  {
   "cell_type": "code",
   "execution_count": 14,
   "metadata": {},
   "outputs": [
    {
     "name": "stdout",
     "output_type": "stream",
     "text": [
      "5\n",
      "50\n"
     ]
    }
   ],
   "source": [
    "print(a[0])\n",
    "print(a[9])"
   ]
  },
  {
   "cell_type": "code",
   "execution_count": 15,
   "metadata": {},
   "outputs": [
    {
     "data": {
      "text/plain": [
       "numpy.ndarray"
      ]
     },
     "execution_count": 15,
     "metadata": {},
     "output_type": "execute_result"
    }
   ],
   "source": [
    "b = a ** 2\n",
    "b\n",
    "type(b)"
   ]
  },
  {
   "cell_type": "code",
   "execution_count": 16,
   "metadata": {},
   "outputs": [
    {
     "data": {
      "text/plain": [
       "array([[1., 0., 0., 0.],\n",
       "       [0., 1., 0., 0.],\n",
       "       [0., 0., 1., 0.],\n",
       "       [0., 0., 0., 1.]])"
      ]
     },
     "execution_count": 16,
     "metadata": {},
     "output_type": "execute_result"
    }
   ],
   "source": [
    "c = np.eye(4)\n",
    "c"
   ]
  },
  {
   "cell_type": "code",
   "execution_count": 17,
   "metadata": {},
   "outputs": [
    {
     "data": {
      "text/plain": [
       "array([[3., 0., 0., 0.],\n",
       "       [0., 3., 0., 0.],\n",
       "       [0., 0., 3., 0.],\n",
       "       [0., 0., 0., 3.]])"
      ]
     },
     "execution_count": 17,
     "metadata": {},
     "output_type": "execute_result"
    }
   ],
   "source": [
    "c * 3"
   ]
  },
  {
   "cell_type": "code",
   "execution_count": 18,
   "metadata": {},
   "outputs": [
    {
     "name": "stdout",
     "output_type": "stream",
     "text": [
      "1.0\n"
     ]
    }
   ],
   "source": [
    "print(c[1,1])"
   ]
  },
  {
   "cell_type": "code",
   "execution_count": 19,
   "metadata": {},
   "outputs": [
    {
     "name": "stdout",
     "output_type": "stream",
     "text": [
      "[0. 1. 0. 0.]\n"
     ]
    }
   ],
   "source": [
    "print(c[:,1])"
   ]
  },
  {
   "cell_type": "code",
   "execution_count": 20,
   "metadata": {},
   "outputs": [
    {
     "name": "stdout",
     "output_type": "stream",
     "text": [
      "[[1. 0.]\n",
      " [0. 1.]\n",
      " [0. 0.]\n",
      " [0. 0.]]\n"
     ]
    }
   ],
   "source": [
    "print(c[:,:2])"
   ]
  },
  {
   "cell_type": "code",
   "execution_count": 21,
   "metadata": {},
   "outputs": [
    {
     "name": "stdout",
     "output_type": "stream",
     "text": [
      "[[0. 0.]\n",
      " [1. 0.]]\n"
     ]
    }
   ],
   "source": [
    "print(c[0:2,1:3])"
   ]
  },
  {
   "attachments": {},
   "cell_type": "markdown",
   "metadata": {},
   "source": [
    "Note that this pattern appears twice, so you can get two ways!\n"
   ]
  },
  {
   "cell_type": "markdown",
   "metadata": {},
   "source": [
    "## Part 9\n",
    "\n",
    "$\\LaTeX$ is how we write math in technical writing. Notice all of the dollar signs - this tells Markdown where the $\\LaTeX$ begins and ends.\n",
    "\n",
    "Once you know a few $\\LaTeX$ ideas, I think using LLMs to write your math for you is the way to go. You'll get what you want, or something very close. Then, you can edit. \n",
    "\n",
    "People who write a lot of math have strong opinions about the correct formatting. We don't have to worry about that here."
   ]
  },
  {
   "cell_type": "markdown",
   "metadata": {},
   "source": [
    "$$R_i = R_f + \\beta_i (R_m - R_f)$$"
   ]
  },
  {
   "cell_type": "markdown",
   "metadata": {},
   "source": [
    "$$\n",
    "Q = \\frac{1}{1 + \\exp\\left(-a - \\sum_{j=1}^{m} b_j X_j\\right)} \\tag{1}\n",
    "$$ \n"
   ]
  },
  {
   "cell_type": "markdown",
   "metadata": {},
   "source": [
    "You can also have $\\LaTeX$ expressions in a line of text, like this: $Q = \\frac{1}{1 + \\exp\\left(-a - \\sum_{j=1}^{m} b_j X_j\\right)}$"
   ]
  },
  {
   "cell_type": "markdown",
   "metadata": {},
   "source": [
    "This works too. I'm basically having a conversation with ChatGPT 4o about $\\LaTeX$ and Markdown and trying different things. When I write papers, I just use $\\LaTeX$ - it's not just for math, it's a way to typeset and entire paper, book, etc.\n",
    "\n",
    "\\begin{equation}\n",
    "Q = \\frac{1}{1 + \\exp\\left(-a - \\sum_{j=1}^{m} b_j X_j\\right)}\n",
    "\\end{equation}"
   ]
  }
 ],
 "metadata": {
  "kernelspec": {
   "display_name": "base",
   "language": "python",
   "name": "python3"
  },
  "language_info": {
   "codemirror_mode": {
    "name": "ipython",
    "version": 3
   },
   "file_extension": ".py",
   "mimetype": "text/x-python",
   "name": "python",
   "nbconvert_exporter": "python",
   "pygments_lexer": "ipython3",
   "version": "3.9.13"
  },
  "orig_nbformat": 4,
  "vscode": {
   "interpreter": {
    "hash": "40d3a090f54c6569ab1632332b64b2c03c39dcf918b08424e98f38b5ae0af88f"
   }
  }
 },
 "nbformat": 4,
 "nbformat_minor": 2
}
