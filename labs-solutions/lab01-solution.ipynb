{
 "cells": [
  {
   "cell_type": "markdown",
   "metadata": {},
   "source": [
    "# Lab 01\n",
    "## Getting Started with Python, Jupyter Notebooks, and VS Code\n",
    "\n",
    "In this lab, we'll send some time getting comfortable with our work environment. The first Data Camp assignment will introduce you to Python basics. In this lab, I'll walk you through our set up.\n",
    "\n",
    "I am writing these notes in **Markdown**. You can open up this `.ipynb` file (iPython, or Jupyter, notebook - they changed names) in VS Code and check out the actual code. \n",
    "\n",
    "Use our online notes to complete our labs. I have my own commentary and links that will help. You can work through the parts below in order.\n",
    "\n",
    "In particular, this will help: https://code.visualstudio.com/docs/datascience/jupyter-notebooks"
   ]
  },
  {
   "cell_type": "markdown",
   "metadata": {},
   "source": [
    "## Part 1\n",
    "\n",
    "Open up VS Code. Have you set up your class folder yet? I've posted a video that will help you figure that part out. Open up that folder under File. You should see it in the **EXPLORER** window pane on the left. \n",
    "\n",
    "Type **Cmd-Shift-P** ((Ctrl-Shift-P in Windows)) to open up the command pallet. Make sure there's a little `>` in the search bar that pops up (there should be). Search for `Jupyter: Create New Jupyter Notebook`. This will open up a blank `.ipynb` file. Save this in a new folder in your course folder called `lab01`. Call this file `lab01-lastname-firstname`, where you fill in your name, of course! \n"
   ]
  },
  {
   "cell_type": "markdown",
   "metadata": {},
   "source": [
    "## Part 2\n",
    "\n",
    "You are now ready to write some code! You'll see a blank code cell, or **cell**, at the top. By default, this is set to Python. See the lower right-hand corner of the cell? Click there and search and select **Markdown**. \n",
    "\n",
    "Create the following set of headers in that top Markdown cell.\n",
    "\n",
    "```\n",
    "# Lab01\n",
    "## Firstname Lastname\n",
    "```\n",
    "\n",
    "If you look at my markdown for this file, you'll see that I have that code \"fenced\" with three single quotes. This lets me show you the code without the code trying to run. In other words, though `#` means header, I'm not actually creating the header. I'm showing you the code, instead."
   ]
  }
 ],
 "metadata": {
  "interpreter": {
   "hash": "b67b392f8c699abfccff34ffff3abf55b26d6520ea7ac337064f990a3d8607af"
  },
  "kernelspec": {
   "display_name": "Python 3.9.7 64-bit ('base': conda)",
   "language": "python",
   "name": "python3"
  },
  "language_info": {
   "name": "python",
   "version": "3.9.7"
  },
  "orig_nbformat": 4
 },
 "nbformat": 4,
 "nbformat_minor": 2
}
