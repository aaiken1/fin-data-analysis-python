{
 "cells": [
  {
   "cell_type": "markdown",
   "metadata": {},
   "source": [
    "# Lab 5\n",
    "\n",
    "**Adam Aiken**\n",
    "\n",
    "March 29th, 2025"
   ]
  },
  {
   "cell_type": "markdown",
   "metadata": {},
   "source": [
    "# Portfolio Math\n",
    "\n",
    "## Part 2 - Getting Our Data"
   ]
  },
  {
   "cell_type": "code",
   "execution_count": 70,
   "metadata": {},
   "outputs": [
    {
     "name": "stdout",
     "output_type": "stream",
     "text": [
      "<class 'pandas.core.frame.DataFrame'>\n",
      "RangeIndex: 529 entries, 0 to 528\n",
      "Data columns (total 4 columns):\n",
      " #   Column       Non-Null Count  Dtype \n",
      "---  ------       --------------  ----- \n",
      " 0   ticker       529 non-null    object\n",
      " 1   caldt        529 non-null    int64 \n",
      " 2   crsp_fundno  529 non-null    int64 \n",
      " 3   mret         528 non-null    object\n",
      "dtypes: int64(2), object(2)\n",
      "memory usage: 16.7+ KB\n"
     ]
    }
   ],
   "source": [
    "import numpy as np\n",
    "import pandas as pd\n",
    "import datetime as dt\n",
    "\n",
    "from datetime import timedelta\n",
    "\n",
    "import seaborn as sns\n",
    "\n",
    "# plotting packages\n",
    "%matplotlib inline\n",
    "from mpl_toolkits.mplot3d import Axes3D\n",
    "import matplotlib.pyplot as plt\n",
    "import matplotlib.cm as cm\n",
    "import matplotlib.colors as clrs\n",
    "\n",
    "import scipy.optimize as sco\n",
    "\n",
    "mf = pd.read_csv('https://raw.githubusercontent.com/aaiken1/fin-data-analysis-python/main/data/mutual_funds.csv')\n",
    "\n",
    "mf.info()"
   ]
  },
  {
   "cell_type": "markdown",
   "metadata": {},
   "source": [
    "VMVFX is forms portfolios that try to minimize the variance of the portfolio of stocks. This is related to the **low risk** style-factor. Essentially, lower risk portfolios do better than you would expect, based on models like the CAPM. In other words, you get more return then you'd think. \n",
    "\n",
    "## Part 3 - Cleaning our data"
   ]
  },
  {
   "cell_type": "code",
   "execution_count": 71,
   "metadata": {},
   "outputs": [],
   "source": [
    "mf['mret'] = pd.to_numeric(mf['mret'], downcast='float', errors='coerce')\n"
   ]
  },
  {
   "cell_type": "markdown",
   "metadata": {},
   "source": [
    "## Part 4 - Getting summary stats and more organization"
   ]
  },
  {
   "cell_type": "code",
   "execution_count": 72,
   "metadata": {},
   "outputs": [
    {
     "data": {
      "text/plain": [
       "ticker\n",
       "VBMFX    0.002848\n",
       "VMVFX    0.007720\n",
       "VTMGX    0.006345\n",
       "VTSMX    0.012486\n",
       "Name: mret, dtype: float32"
      ]
     },
     "execution_count": 72,
     "metadata": {},
     "output_type": "execute_result"
    }
   ],
   "source": [
    "mf.groupby('ticker')['mret'].mean()"
   ]
  },
  {
   "cell_type": "code",
   "execution_count": 73,
   "metadata": {},
   "outputs": [],
   "source": [
    "mf = mf.drop('crsp_fundno', axis=1)"
   ]
  },
  {
   "cell_type": "code",
   "execution_count": 74,
   "metadata": {},
   "outputs": [],
   "source": [
    "mf = pd.pivot(mf, values='mret', columns='ticker', index='caldt').dropna()\n"
   ]
  },
  {
   "cell_type": "code",
   "execution_count": 75,
   "metadata": {},
   "outputs": [
    {
     "data": {
      "text/html": [
       "<div>\n",
       "<style scoped>\n",
       "    .dataframe tbody tr th:only-of-type {\n",
       "        vertical-align: middle;\n",
       "    }\n",
       "\n",
       "    .dataframe tbody tr th {\n",
       "        vertical-align: top;\n",
       "    }\n",
       "\n",
       "    .dataframe thead th {\n",
       "        text-align: right;\n",
       "    }\n",
       "</style>\n",
       "<table border=\"1\" class=\"dataframe\">\n",
       "  <thead>\n",
       "    <tr style=\"text-align: right;\">\n",
       "      <th>ticker</th>\n",
       "      <th>VBMFX</th>\n",
       "      <th>VMVFX</th>\n",
       "      <th>VTMGX</th>\n",
       "      <th>VTSMX</th>\n",
       "    </tr>\n",
       "    <tr>\n",
       "      <th>caldt</th>\n",
       "      <th></th>\n",
       "      <th></th>\n",
       "      <th></th>\n",
       "      <th></th>\n",
       "    </tr>\n",
       "  </thead>\n",
       "  <tbody>\n",
       "    <tr>\n",
       "      <th>20140228</th>\n",
       "      <td>0.004791</td>\n",
       "      <td>0.036561</td>\n",
       "      <td>0.057300</td>\n",
       "      <td>0.047324</td>\n",
       "    </tr>\n",
       "    <tr>\n",
       "      <th>20140331</th>\n",
       "      <td>-0.001493</td>\n",
       "      <td>0.006673</td>\n",
       "      <td>-0.004216</td>\n",
       "      <td>0.005138</td>\n",
       "    </tr>\n",
       "    <tr>\n",
       "      <th>20140430</th>\n",
       "      <td>0.007719</td>\n",
       "      <td>0.008523</td>\n",
       "      <td>0.015072</td>\n",
       "      <td>0.000633</td>\n",
       "    </tr>\n",
       "    <tr>\n",
       "      <th>20140530</th>\n",
       "      <td>0.010478</td>\n",
       "      <td>0.017840</td>\n",
       "      <td>0.016333</td>\n",
       "      <td>0.021712</td>\n",
       "    </tr>\n",
       "    <tr>\n",
       "      <th>20140630</th>\n",
       "      <td>0.001096</td>\n",
       "      <td>0.012915</td>\n",
       "      <td>0.010557</td>\n",
       "      <td>0.025378</td>\n",
       "    </tr>\n",
       "  </tbody>\n",
       "</table>\n",
       "</div>"
      ],
      "text/plain": [
       "ticker       VBMFX     VMVFX     VTMGX     VTSMX\n",
       "caldt                                           \n",
       "20140228  0.004791  0.036561  0.057300  0.047324\n",
       "20140331 -0.001493  0.006673 -0.004216  0.005138\n",
       "20140430  0.007719  0.008523  0.015072  0.000633\n",
       "20140530  0.010478  0.017840  0.016333  0.021712\n",
       "20140630  0.001096  0.012915  0.010557  0.025378"
      ]
     },
     "execution_count": 75,
     "metadata": {},
     "output_type": "execute_result"
    }
   ],
   "source": [
    "mf.head()"
   ]
  },
  {
   "cell_type": "markdown",
   "metadata": {},
   "source": [
    "## Part 5 - Annualized Returns"
   ]
  },
  {
   "cell_type": "code",
   "execution_count": 76,
   "metadata": {},
   "outputs": [
    {
     "data": {
      "text/plain": [
       "ticker\n",
       "VBMFX    0.030438\n",
       "VMVFX    0.092639\n",
       "VTMGX    0.072681\n",
       "VTSMX    0.148794\n",
       "dtype: float32"
      ]
     },
     "execution_count": 76,
     "metadata": {},
     "output_type": "execute_result"
    }
   ],
   "source": [
    "ann_rets = mf.mean() * 12\n",
    "ann_rets"
   ]
  },
  {
   "cell_type": "code",
   "execution_count": 77,
   "metadata": {},
   "outputs": [
    {
     "data": {
      "text/plain": [
       "ticker\n",
       "VBMFX    0.031601\n",
       "VMVFX    0.101537\n",
       "VTMGX    0.142306\n",
       "VTSMX    0.142804\n",
       "dtype: float32"
      ]
     },
     "execution_count": 77,
     "metadata": {},
     "output_type": "execute_result"
    }
   ],
   "source": [
    "ann_stdev = mf.std() * np.sqrt(12)\n",
    "ann_stdev"
   ]
  },
  {
   "cell_type": "code",
   "execution_count": 78,
   "metadata": {},
   "outputs": [
    {
     "data": {
      "text/html": [
       "<div>\n",
       "<style scoped>\n",
       "    .dataframe tbody tr th:only-of-type {\n",
       "        vertical-align: middle;\n",
       "    }\n",
       "\n",
       "    .dataframe tbody tr th {\n",
       "        vertical-align: top;\n",
       "    }\n",
       "\n",
       "    .dataframe thead th {\n",
       "        text-align: right;\n",
       "    }\n",
       "</style>\n",
       "<table border=\"1\" class=\"dataframe\">\n",
       "  <thead>\n",
       "    <tr style=\"text-align: right;\">\n",
       "      <th>ticker</th>\n",
       "      <th>VBMFX</th>\n",
       "      <th>VMVFX</th>\n",
       "      <th>VTMGX</th>\n",
       "      <th>VTSMX</th>\n",
       "    </tr>\n",
       "    <tr>\n",
       "      <th>ticker</th>\n",
       "      <th></th>\n",
       "      <th></th>\n",
       "      <th></th>\n",
       "      <th></th>\n",
       "    </tr>\n",
       "  </thead>\n",
       "  <tbody>\n",
       "    <tr>\n",
       "      <th>VBMFX</th>\n",
       "      <td>0.000999</td>\n",
       "      <td>0.000571</td>\n",
       "      <td>0.000195</td>\n",
       "      <td>0.000011</td>\n",
       "    </tr>\n",
       "    <tr>\n",
       "      <th>VMVFX</th>\n",
       "      <td>0.000571</td>\n",
       "      <td>0.010310</td>\n",
       "      <td>0.011837</td>\n",
       "      <td>0.012860</td>\n",
       "    </tr>\n",
       "    <tr>\n",
       "      <th>VTMGX</th>\n",
       "      <td>0.000195</td>\n",
       "      <td>0.011837</td>\n",
       "      <td>0.020251</td>\n",
       "      <td>0.017865</td>\n",
       "    </tr>\n",
       "    <tr>\n",
       "      <th>VTSMX</th>\n",
       "      <td>0.000011</td>\n",
       "      <td>0.012860</td>\n",
       "      <td>0.017865</td>\n",
       "      <td>0.020393</td>\n",
       "    </tr>\n",
       "  </tbody>\n",
       "</table>\n",
       "</div>"
      ],
      "text/plain": [
       "ticker     VBMFX     VMVFX     VTMGX     VTSMX\n",
       "ticker                                        \n",
       "VBMFX   0.000999  0.000571  0.000195  0.000011\n",
       "VMVFX   0.000571  0.010310  0.011837  0.012860\n",
       "VTMGX   0.000195  0.011837  0.020251  0.017865\n",
       "VTSMX   0.000011  0.012860  0.017865  0.020393"
      ]
     },
     "execution_count": 78,
     "metadata": {},
     "output_type": "execute_result"
    }
   ],
   "source": [
    "ann_cov = mf.cov() * 12\n",
    "ann_cov"
   ]
  },
  {
   "cell_type": "code",
   "execution_count": 79,
   "metadata": {},
   "outputs": [
    {
     "data": {
      "text/html": [
       "<div>\n",
       "<style scoped>\n",
       "    .dataframe tbody tr th:only-of-type {\n",
       "        vertical-align: middle;\n",
       "    }\n",
       "\n",
       "    .dataframe tbody tr th {\n",
       "        vertical-align: top;\n",
       "    }\n",
       "\n",
       "    .dataframe thead th {\n",
       "        text-align: right;\n",
       "    }\n",
       "</style>\n",
       "<table border=\"1\" class=\"dataframe\">\n",
       "  <thead>\n",
       "    <tr style=\"text-align: right;\">\n",
       "      <th>ticker</th>\n",
       "      <th>VBMFX</th>\n",
       "      <th>VMVFX</th>\n",
       "      <th>VTMGX</th>\n",
       "      <th>VTSMX</th>\n",
       "    </tr>\n",
       "    <tr>\n",
       "      <th>ticker</th>\n",
       "      <th></th>\n",
       "      <th></th>\n",
       "      <th></th>\n",
       "      <th></th>\n",
       "    </tr>\n",
       "  </thead>\n",
       "  <tbody>\n",
       "    <tr>\n",
       "      <th>VBMFX</th>\n",
       "      <td>1.000000</td>\n",
       "      <td>0.177897</td>\n",
       "      <td>0.043343</td>\n",
       "      <td>0.002341</td>\n",
       "    </tr>\n",
       "    <tr>\n",
       "      <th>VMVFX</th>\n",
       "      <td>0.177897</td>\n",
       "      <td>1.000000</td>\n",
       "      <td>0.819231</td>\n",
       "      <td>0.886880</td>\n",
       "    </tr>\n",
       "    <tr>\n",
       "      <th>VTMGX</th>\n",
       "      <td>0.043343</td>\n",
       "      <td>0.819231</td>\n",
       "      <td>1.000000</td>\n",
       "      <td>0.879125</td>\n",
       "    </tr>\n",
       "    <tr>\n",
       "      <th>VTSMX</th>\n",
       "      <td>0.002341</td>\n",
       "      <td>0.886880</td>\n",
       "      <td>0.879125</td>\n",
       "      <td>1.000000</td>\n",
       "    </tr>\n",
       "  </tbody>\n",
       "</table>\n",
       "</div>"
      ],
      "text/plain": [
       "ticker     VBMFX     VMVFX     VTMGX     VTSMX\n",
       "ticker                                        \n",
       "VBMFX   1.000000  0.177897  0.043343  0.002341\n",
       "VMVFX   0.177897  1.000000  0.819231  0.886880\n",
       "VTMGX   0.043343  0.819231  1.000000  0.879125\n",
       "VTSMX   0.002341  0.886880  0.879125  1.000000"
      ]
     },
     "execution_count": 79,
     "metadata": {},
     "output_type": "execute_result"
    }
   ],
   "source": [
    "ann_cor = mf.corr()\n",
    "ann_cor"
   ]
  },
  {
   "cell_type": "markdown",
   "metadata": {},
   "source": [
    "## Part 12 - An optimal portfolio\n",
    "\n",
    "This code comes from my notes online. Can you describe what it is doing?"
   ]
  },
  {
   "cell_type": "code",
   "execution_count": 80,
   "metadata": {},
   "outputs": [
    {
     "data": {
      "text/plain": [
       " message: Optimization terminated successfully\n",
       " success: True\n",
       "  status: 0\n",
       "     fun: -1.2255838704306725\n",
       "       x: [ 5.000e-01  4.742e-02  5.511e-14  4.526e-01]\n",
       "     nit: 6\n",
       "     jac: [-2.997e-01  2.998e-01  1.105e+00  2.997e-01]\n",
       "    nfev: 30\n",
       "    njev: 6"
      ]
     },
     "execution_count": 80,
     "metadata": {},
     "output_type": "execute_result"
    }
   ],
   "source": [
    "weights = np.array([0.25, 0.25, 0.25, 0.25])\n",
    "\n",
    "def port_ret(weights):\n",
    "    return np.sum(ann_rets * weights)\n",
    "\n",
    "def port_vol(weights):\n",
    "    return np.sqrt(np.dot(weights.T, np.dot(ann_cov, weights)))\n",
    "\n",
    "def min_func_sharpe(weights):  \n",
    "    return -port_ret(weights) / port_vol(weights)  \n",
    "\n",
    "cons = ({'type': 'eq', 'fun': lambda x:  np.sum(x) - 1})  \n",
    "bnds = tuple((0, 0.5) for x in range(4))  \n",
    "\n",
    "opts = sco.minimize(min_func_sharpe, weights,\n",
    "                    method='SLSQP', bounds=bnds,\n",
    "                    constraints=cons) \n",
    "\n",
    "opts"
   ]
  },
  {
   "cell_type": "markdown",
   "metadata": {},
   "source": [
    "You can pull out just a single weight. Which asset is this? Why is the number not exactly 50%?"
   ]
  },
  {
   "cell_type": "code",
   "execution_count": 81,
   "metadata": {},
   "outputs": [
    {
     "data": {
      "text/plain": [
       "np.float64(0.4999999999997907)"
      ]
     },
     "execution_count": 81,
     "metadata": {},
     "output_type": "execute_result"
    }
   ],
   "source": [
    "opts.x[0]"
   ]
  },
  {
   "cell_type": "markdown",
   "metadata": {},
   "source": [
    "Let's use the functions that we defined above."
   ]
  },
  {
   "cell_type": "code",
   "execution_count": 82,
   "metadata": {},
   "outputs": [
    {
     "data": {
      "text/plain": [
       "np.float64(0.08695346310268771)"
      ]
     },
     "execution_count": 82,
     "metadata": {},
     "output_type": "execute_result"
    }
   ],
   "source": [
    "port_ret(opts['x']) "
   ]
  },
  {
   "cell_type": "code",
   "execution_count": 83,
   "metadata": {},
   "outputs": [
    {
     "data": {
      "text/plain": [
       "np.float64(0.07094860270324226)"
      ]
     },
     "execution_count": 83,
     "metadata": {},
     "output_type": "execute_result"
    }
   ],
   "source": [
    "port_vol(opts['x'])  "
   ]
  },
  {
   "cell_type": "markdown",
   "metadata": {},
   "source": [
    "Now, let's do the portfolio with a target return. Again, you can find this in my notes, under the **efficient frontier** section. The efficient frontier is finding the portfolios that give a particular target return with the least amount of risk (or vice-versa).\n",
    "\n",
    "No need to define those functions again. Be careful when you copy and paste - you don't want to duplicate a bunch of things. That can make your code very compicated and lead to errors.\n",
    "\n",
    "All I do is add my target return and an additional constraint."
   ]
  },
  {
   "cell_type": "code",
   "execution_count": 84,
   "metadata": {},
   "outputs": [
    {
     "data": {
      "text/plain": [
       " message: Optimization terminated successfully\n",
       " success: True\n",
       "  status: 0\n",
       "     fun: -1.1779294901746211\n",
       "       x: [ 4.134e-01  8.655e-02  0.000e+00  5.000e-01]\n",
       "     nit: 3\n",
       "     jac: [-2.927e-01  2.201e-01  9.166e-01  2.040e-01]\n",
       "    nfev: 15\n",
       "    njev: 3"
      ]
     },
     "execution_count": 84,
     "metadata": {},
     "output_type": "execute_result"
    }
   ],
   "source": [
    "tret = 0.095\n",
    "\n",
    "cons = ({'type': 'eq', 'fun': lambda x:  port_ret(x) - tret},\n",
    "        {'type': 'eq', 'fun': lambda x:  np.sum(x) - 1})  \n",
    "bnds = tuple((0, 0.5) for x in range(4))  \n",
    "\n",
    "opts = sco.minimize(min_func_sharpe, weights,\n",
    "                    method='SLSQP', bounds=bnds,\n",
    "                    constraints=cons) \n",
    "\n",
    "opts"
   ]
  },
  {
   "cell_type": "markdown",
   "metadata": {},
   "source": [
    "## Part 6 - An optimal portfolio using PyPortfolioOpt\n",
    "\n",
    "You need to install PyPortfolioOpt first. I used `pip` in the terminal below.\n",
    "\n",
    "```\n",
    "! pip install pyportfolioopt==1.5.5\n",
    "```\n",
    "\n",
    "You do need to be careful when install packages. I noticed that this package uninstalls `scipy` and installs an older version. Package dependency is a mess in Python. There are more advanced ways to be doing this using tools like [Docker](https://docs.docker.com/get-started/overview/), [Dev Containers](https://code.visualstudio.com/docs/devcontainers/containers), or [poetry](https://github.com/python-poetry/poetry).\n",
    "\n",
    "Beyond the scope of our brief time together, but an important part of the software development and statistical computing tool kits."
   ]
  },
  {
   "cell_type": "code",
   "execution_count": 85,
   "metadata": {},
   "outputs": [
    {
     "name": "stdout",
     "output_type": "stream",
     "text": [
      "Requirement already satisfied: pyportfolioopt==1.5.5 in /usr/local/python/3.12.1/lib/python3.12/site-packages (1.5.5)\n",
      "Requirement already satisfied: cvxpy<2.0.0,>=1.1.19 in /usr/local/python/3.12.1/lib/python3.12/site-packages (from pyportfolioopt==1.5.5) (1.6.4)\n",
      "Requirement already satisfied: numpy<2.0.0,>=1.22.4 in /usr/local/python/3.12.1/lib/python3.12/site-packages (from pyportfolioopt==1.5.5) (1.26.4)\n",
      "Requirement already satisfied: pandas>=0.19 in /home/codespace/.local/lib/python3.12/site-packages (from pyportfolioopt==1.5.5) (2.2.3)\n",
      "Requirement already satisfied: scipy<2.0,>=1.3 in /home/codespace/.local/lib/python3.12/site-packages (from pyportfolioopt==1.5.5) (1.14.1)\n",
      "Requirement already satisfied: osqp>=0.6.2 in /usr/local/python/3.12.1/lib/python3.12/site-packages (from cvxpy<2.0.0,>=1.1.19->pyportfolioopt==1.5.5) (1.0.1)\n",
      "Requirement already satisfied: clarabel>=0.5.0 in /usr/local/python/3.12.1/lib/python3.12/site-packages (from cvxpy<2.0.0,>=1.1.19->pyportfolioopt==1.5.5) (0.10.0)\n",
      "Requirement already satisfied: scs>=3.2.4.post1 in /usr/local/python/3.12.1/lib/python3.12/site-packages (from cvxpy<2.0.0,>=1.1.19->pyportfolioopt==1.5.5) (3.2.7.post2)\n",
      "Requirement already satisfied: python-dateutil>=2.8.2 in /home/codespace/.local/lib/python3.12/site-packages (from pandas>=0.19->pyportfolioopt==1.5.5) (2.9.0.post0)\n",
      "Requirement already satisfied: pytz>=2020.1 in /home/codespace/.local/lib/python3.12/site-packages (from pandas>=0.19->pyportfolioopt==1.5.5) (2024.2)\n",
      "Requirement already satisfied: tzdata>=2022.7 in /home/codespace/.local/lib/python3.12/site-packages (from pandas>=0.19->pyportfolioopt==1.5.5) (2024.2)\n",
      "Requirement already satisfied: jinja2 in /home/codespace/.local/lib/python3.12/site-packages (from osqp>=0.6.2->cvxpy<2.0.0,>=1.1.19->pyportfolioopt==1.5.5) (3.1.4)\n",
      "Requirement already satisfied: setuptools in /home/codespace/.local/lib/python3.12/site-packages (from osqp>=0.6.2->cvxpy<2.0.0,>=1.1.19->pyportfolioopt==1.5.5) (75.6.0)\n",
      "Requirement already satisfied: joblib in /home/codespace/.local/lib/python3.12/site-packages (from osqp>=0.6.2->cvxpy<2.0.0,>=1.1.19->pyportfolioopt==1.5.5) (1.4.2)\n",
      "Requirement already satisfied: six>=1.5 in /home/codespace/.local/lib/python3.12/site-packages (from python-dateutil>=2.8.2->pandas>=0.19->pyportfolioopt==1.5.5) (1.17.0)\n",
      "Requirement already satisfied: MarkupSafe>=2.0 in /home/codespace/.local/lib/python3.12/site-packages (from jinja2->osqp>=0.6.2->cvxpy<2.0.0,>=1.1.19->pyportfolioopt==1.5.5) (3.0.2)\n",
      "\n",
      "\u001b[1m[\u001b[0m\u001b[34;49mnotice\u001b[0m\u001b[1;39;49m]\u001b[0m\u001b[39;49m A new release of pip is available: \u001b[0m\u001b[31;49m24.3.1\u001b[0m\u001b[39;49m -> \u001b[0m\u001b[32;49m25.0.1\u001b[0m\n",
      "\u001b[1m[\u001b[0m\u001b[34;49mnotice\u001b[0m\u001b[1;39;49m]\u001b[0m\u001b[39;49m To update, run: \u001b[0m\u001b[32;49mpython3 -m pip install --upgrade pip\u001b[0m\n"
     ]
    }
   ],
   "source": [
    "! pip install pyportfolioopt==1.5.5"
   ]
  },
  {
   "cell_type": "code",
   "execution_count": 86,
   "metadata": {},
   "outputs": [],
   "source": [
    "from pypfopt import EfficientFrontier\n",
    "from pypfopt import risk_models\n",
    "from pypfopt import expected_returns"
   ]
  },
  {
   "cell_type": "code",
   "execution_count": 87,
   "metadata": {},
   "outputs": [
    {
     "data": {
      "text/plain": [
       "OrderedDict([('VBMFX', np.float64(0.5)),\n",
       "             ('VMVFX', np.float64(0.0471988505521024)),\n",
       "             ('VTMGX', np.float64(0.0)),\n",
       "             ('VTSMX', np.float64(0.4528011494478976))])"
      ]
     },
     "execution_count": 87,
     "metadata": {},
     "output_type": "execute_result"
    }
   ],
   "source": [
    "ef = EfficientFrontier(ann_rets, ann_cov, weight_bounds=(0, 0.5))\n",
    "\n",
    "raw_weights = ef.max_sharpe(risk_free_rate = 0)\n",
    "raw_weights"
   ]
  },
  {
   "cell_type": "markdown",
   "metadata": {},
   "source": [
    "## Part 7 - Adding data and clustering\n"
   ]
  },
  {
   "cell_type": "code",
   "execution_count": 88,
   "metadata": {},
   "outputs": [],
   "source": [
    "# Kmeans algorithm from scikit-learn\n",
    "from sklearn.cluster import KMeans\n",
    "from sklearn.metrics import silhouette_samples, silhouette_score\n",
    "from sklearn.preprocessing import StandardScaler"
   ]
  },
  {
   "cell_type": "code",
   "execution_count": 89,
   "metadata": {},
   "outputs": [
    {
     "data": {
      "text/html": [
       "<div>\n",
       "<style scoped>\n",
       "    .dataframe tbody tr th:only-of-type {\n",
       "        vertical-align: middle;\n",
       "    }\n",
       "\n",
       "    .dataframe tbody tr th {\n",
       "        vertical-align: top;\n",
       "    }\n",
       "\n",
       "    .dataframe thead th {\n",
       "        text-align: right;\n",
       "    }\n",
       "</style>\n",
       "<table border=\"1\" class=\"dataframe\">\n",
       "  <thead>\n",
       "    <tr style=\"text-align: right;\">\n",
       "      <th></th>\n",
       "      <th>Country</th>\n",
       "      <th>Abbrev</th>\n",
       "      <th>Corruption</th>\n",
       "      <th>Peace</th>\n",
       "      <th>Legal</th>\n",
       "      <th>GDP Growth</th>\n",
       "    </tr>\n",
       "  </thead>\n",
       "  <tbody>\n",
       "    <tr>\n",
       "      <th>0</th>\n",
       "      <td>Albania</td>\n",
       "      <td>AL</td>\n",
       "      <td>35</td>\n",
       "      <td>1.821</td>\n",
       "      <td>4.546</td>\n",
       "      <td>2.983</td>\n",
       "    </tr>\n",
       "    <tr>\n",
       "      <th>1</th>\n",
       "      <td>Algeria</td>\n",
       "      <td>DZ</td>\n",
       "      <td>35</td>\n",
       "      <td>2.219</td>\n",
       "      <td>4.435</td>\n",
       "      <td>2.553</td>\n",
       "    </tr>\n",
       "    <tr>\n",
       "      <th>2</th>\n",
       "      <td>Argentina</td>\n",
       "      <td>AR</td>\n",
       "      <td>45</td>\n",
       "      <td>1.989</td>\n",
       "      <td>5.087</td>\n",
       "      <td>-3.061</td>\n",
       "    </tr>\n",
       "    <tr>\n",
       "      <th>3</th>\n",
       "      <td>Armenia</td>\n",
       "      <td>AM</td>\n",
       "      <td>42</td>\n",
       "      <td>2.294</td>\n",
       "      <td>4.812</td>\n",
       "      <td>6.000</td>\n",
       "    </tr>\n",
       "    <tr>\n",
       "      <th>4</th>\n",
       "      <td>Australia</td>\n",
       "      <td>AU</td>\n",
       "      <td>77</td>\n",
       "      <td>1.419</td>\n",
       "      <td>8.363</td>\n",
       "      <td>1.713</td>\n",
       "    </tr>\n",
       "    <tr>\n",
       "      <th>...</th>\n",
       "      <td>...</td>\n",
       "      <td>...</td>\n",
       "      <td>...</td>\n",
       "      <td>...</td>\n",
       "      <td>...</td>\n",
       "      <td>...</td>\n",
       "    </tr>\n",
       "    <tr>\n",
       "      <th>116</th>\n",
       "      <td>Uruguay</td>\n",
       "      <td>UY</td>\n",
       "      <td>71</td>\n",
       "      <td>1.711</td>\n",
       "      <td>6.329</td>\n",
       "      <td>0.400</td>\n",
       "    </tr>\n",
       "    <tr>\n",
       "      <th>117</th>\n",
       "      <td>Vietnam</td>\n",
       "      <td>VI</td>\n",
       "      <td>37</td>\n",
       "      <td>1.877</td>\n",
       "      <td>5.084</td>\n",
       "      <td>6.500</td>\n",
       "    </tr>\n",
       "    <tr>\n",
       "      <th>118</th>\n",
       "      <td>Yemen</td>\n",
       "      <td>YE</td>\n",
       "      <td>15</td>\n",
       "      <td>3.369</td>\n",
       "      <td>2.671</td>\n",
       "      <td>2.113</td>\n",
       "    </tr>\n",
       "    <tr>\n",
       "      <th>119</th>\n",
       "      <td>Zambia</td>\n",
       "      <td>ZM</td>\n",
       "      <td>34</td>\n",
       "      <td>1.805</td>\n",
       "      <td>4.592</td>\n",
       "      <td>2.021</td>\n",
       "    </tr>\n",
       "    <tr>\n",
       "      <th>120</th>\n",
       "      <td>Zimbabwe</td>\n",
       "      <td>ZW</td>\n",
       "      <td>24</td>\n",
       "      <td>2.463</td>\n",
       "      <td>3.738</td>\n",
       "      <td>-7.077</td>\n",
       "    </tr>\n",
       "  </tbody>\n",
       "</table>\n",
       "<p>121 rows × 6 columns</p>\n",
       "</div>"
      ],
      "text/plain": [
       "       Country Abbrev  Corruption  Peace  Legal  GDP Growth\n",
       "0      Albania     AL          35  1.821  4.546       2.983\n",
       "1      Algeria     DZ          35  2.219  4.435       2.553\n",
       "2    Argentina     AR          45  1.989  5.087      -3.061\n",
       "3      Armenia     AM          42  2.294  4.812       6.000\n",
       "4    Australia     AU          77  1.419  8.363       1.713\n",
       "..         ...    ...         ...    ...    ...         ...\n",
       "116    Uruguay     UY          71  1.711  6.329       0.400\n",
       "117    Vietnam     VI          37  1.877  5.084       6.500\n",
       "118      Yemen     YE          15  3.369  2.671       2.113\n",
       "119     Zambia     ZM          34  1.805  4.592       2.021\n",
       "120   Zimbabwe     ZW          24  2.463  3.738      -7.077\n",
       "\n",
       "[121 rows x 6 columns]"
      ]
     },
     "execution_count": 89,
     "metadata": {},
     "output_type": "execute_result"
    }
   ],
   "source": [
    "raw = pd.read_csv('https://raw.githubusercontent.com/aaiken1/fin-data-analysis-python/main/data/Country_Risk_2019_Data.csv')\n",
    "raw\n"
   ]
  },
  {
   "cell_type": "markdown",
   "metadata": {},
   "source": [
    "Venezuela is not included in the 121 countries used in the country risk case study described in this chapter. Its feature values are fairly extreme. The corruption index, peace index, legal risk index,  and real GDP growth rate are 16, 2.671, 2.895, and −35%, respectively. Try adding Venezuela to the countries considered in the three-feature analysis considered in this section. How do the results change? What do your results suggest about the sensitivity of k-means to outliers? \n",
    "\n",
    "I'm going to add the new observation to the bottom of the dataframe."
   ]
  },
  {
   "cell_type": "code",
   "execution_count": 90,
   "metadata": {},
   "outputs": [
    {
     "data": {
      "text/html": [
       "<div>\n",
       "<style scoped>\n",
       "    .dataframe tbody tr th:only-of-type {\n",
       "        vertical-align: middle;\n",
       "    }\n",
       "\n",
       "    .dataframe tbody tr th {\n",
       "        vertical-align: top;\n",
       "    }\n",
       "\n",
       "    .dataframe thead th {\n",
       "        text-align: right;\n",
       "    }\n",
       "</style>\n",
       "<table border=\"1\" class=\"dataframe\">\n",
       "  <thead>\n",
       "    <tr style=\"text-align: right;\">\n",
       "      <th></th>\n",
       "      <th>Country</th>\n",
       "      <th>Abbrev</th>\n",
       "      <th>Corruption</th>\n",
       "      <th>Peace</th>\n",
       "      <th>Legal</th>\n",
       "      <th>GDP Growth</th>\n",
       "    </tr>\n",
       "  </thead>\n",
       "  <tbody>\n",
       "    <tr>\n",
       "      <th>117</th>\n",
       "      <td>Vietnam</td>\n",
       "      <td>VI</td>\n",
       "      <td>37</td>\n",
       "      <td>1.877</td>\n",
       "      <td>5.084</td>\n",
       "      <td>6.500</td>\n",
       "    </tr>\n",
       "    <tr>\n",
       "      <th>118</th>\n",
       "      <td>Yemen</td>\n",
       "      <td>YE</td>\n",
       "      <td>15</td>\n",
       "      <td>3.369</td>\n",
       "      <td>2.671</td>\n",
       "      <td>2.113</td>\n",
       "    </tr>\n",
       "    <tr>\n",
       "      <th>119</th>\n",
       "      <td>Zambia</td>\n",
       "      <td>ZM</td>\n",
       "      <td>34</td>\n",
       "      <td>1.805</td>\n",
       "      <td>4.592</td>\n",
       "      <td>2.021</td>\n",
       "    </tr>\n",
       "    <tr>\n",
       "      <th>120</th>\n",
       "      <td>Zimbabwe</td>\n",
       "      <td>ZW</td>\n",
       "      <td>24</td>\n",
       "      <td>2.463</td>\n",
       "      <td>3.738</td>\n",
       "      <td>-7.077</td>\n",
       "    </tr>\n",
       "    <tr>\n",
       "      <th>-1</th>\n",
       "      <td>Venezuela</td>\n",
       "      <td>VE</td>\n",
       "      <td>16</td>\n",
       "      <td>2.671</td>\n",
       "      <td>2.895</td>\n",
       "      <td>-35.000</td>\n",
       "    </tr>\n",
       "  </tbody>\n",
       "</table>\n",
       "</div>"
      ],
      "text/plain": [
       "        Country Abbrev  Corruption  Peace  Legal  GDP Growth\n",
       " 117    Vietnam     VI          37  1.877  5.084       6.500\n",
       " 118      Yemen     YE          15  3.369  2.671       2.113\n",
       " 119     Zambia     ZM          34  1.805  4.592       2.021\n",
       " 120   Zimbabwe     ZW          24  2.463  3.738      -7.077\n",
       "-1    Venezuela     VE          16  2.671  2.895     -35.000"
      ]
     },
     "execution_count": 90,
     "metadata": {},
     "output_type": "execute_result"
    }
   ],
   "source": [
    "raw.loc[-1] = ['Venezuela', 'VE', 16, 2.671, 2.895, -35.00]  # adding a row\n",
    "raw.tail()"
   ]
  },
  {
   "cell_type": "markdown",
   "metadata": {},
   "source": [
    "We can move it to the top, too. See how we are manipulating the *index*?"
   ]
  },
  {
   "cell_type": "code",
   "execution_count": 91,
   "metadata": {},
   "outputs": [
    {
     "data": {
      "text/html": [
       "<div>\n",
       "<style scoped>\n",
       "    .dataframe tbody tr th:only-of-type {\n",
       "        vertical-align: middle;\n",
       "    }\n",
       "\n",
       "    .dataframe tbody tr th {\n",
       "        vertical-align: top;\n",
       "    }\n",
       "\n",
       "    .dataframe thead th {\n",
       "        text-align: right;\n",
       "    }\n",
       "</style>\n",
       "<table border=\"1\" class=\"dataframe\">\n",
       "  <thead>\n",
       "    <tr style=\"text-align: right;\">\n",
       "      <th></th>\n",
       "      <th>Country</th>\n",
       "      <th>Abbrev</th>\n",
       "      <th>Corruption</th>\n",
       "      <th>Peace</th>\n",
       "      <th>Legal</th>\n",
       "      <th>GDP Growth</th>\n",
       "    </tr>\n",
       "  </thead>\n",
       "  <tbody>\n",
       "    <tr>\n",
       "      <th>0</th>\n",
       "      <td>Venezuela</td>\n",
       "      <td>VE</td>\n",
       "      <td>16</td>\n",
       "      <td>2.671</td>\n",
       "      <td>2.895</td>\n",
       "      <td>-35.000</td>\n",
       "    </tr>\n",
       "    <tr>\n",
       "      <th>1</th>\n",
       "      <td>Albania</td>\n",
       "      <td>AL</td>\n",
       "      <td>35</td>\n",
       "      <td>1.821</td>\n",
       "      <td>4.546</td>\n",
       "      <td>2.983</td>\n",
       "    </tr>\n",
       "    <tr>\n",
       "      <th>2</th>\n",
       "      <td>Algeria</td>\n",
       "      <td>DZ</td>\n",
       "      <td>35</td>\n",
       "      <td>2.219</td>\n",
       "      <td>4.435</td>\n",
       "      <td>2.553</td>\n",
       "    </tr>\n",
       "    <tr>\n",
       "      <th>3</th>\n",
       "      <td>Argentina</td>\n",
       "      <td>AR</td>\n",
       "      <td>45</td>\n",
       "      <td>1.989</td>\n",
       "      <td>5.087</td>\n",
       "      <td>-3.061</td>\n",
       "    </tr>\n",
       "    <tr>\n",
       "      <th>4</th>\n",
       "      <td>Armenia</td>\n",
       "      <td>AM</td>\n",
       "      <td>42</td>\n",
       "      <td>2.294</td>\n",
       "      <td>4.812</td>\n",
       "      <td>6.000</td>\n",
       "    </tr>\n",
       "    <tr>\n",
       "      <th>...</th>\n",
       "      <td>...</td>\n",
       "      <td>...</td>\n",
       "      <td>...</td>\n",
       "      <td>...</td>\n",
       "      <td>...</td>\n",
       "      <td>...</td>\n",
       "    </tr>\n",
       "    <tr>\n",
       "      <th>117</th>\n",
       "      <td>Uruguay</td>\n",
       "      <td>UY</td>\n",
       "      <td>71</td>\n",
       "      <td>1.711</td>\n",
       "      <td>6.329</td>\n",
       "      <td>0.400</td>\n",
       "    </tr>\n",
       "    <tr>\n",
       "      <th>118</th>\n",
       "      <td>Vietnam</td>\n",
       "      <td>VI</td>\n",
       "      <td>37</td>\n",
       "      <td>1.877</td>\n",
       "      <td>5.084</td>\n",
       "      <td>6.500</td>\n",
       "    </tr>\n",
       "    <tr>\n",
       "      <th>119</th>\n",
       "      <td>Yemen</td>\n",
       "      <td>YE</td>\n",
       "      <td>15</td>\n",
       "      <td>3.369</td>\n",
       "      <td>2.671</td>\n",
       "      <td>2.113</td>\n",
       "    </tr>\n",
       "    <tr>\n",
       "      <th>120</th>\n",
       "      <td>Zambia</td>\n",
       "      <td>ZM</td>\n",
       "      <td>34</td>\n",
       "      <td>1.805</td>\n",
       "      <td>4.592</td>\n",
       "      <td>2.021</td>\n",
       "    </tr>\n",
       "    <tr>\n",
       "      <th>121</th>\n",
       "      <td>Zimbabwe</td>\n",
       "      <td>ZW</td>\n",
       "      <td>24</td>\n",
       "      <td>2.463</td>\n",
       "      <td>3.738</td>\n",
       "      <td>-7.077</td>\n",
       "    </tr>\n",
       "  </tbody>\n",
       "</table>\n",
       "<p>122 rows × 6 columns</p>\n",
       "</div>"
      ],
      "text/plain": [
       "       Country Abbrev  Corruption  Peace  Legal  GDP Growth\n",
       "0    Venezuela     VE          16  2.671  2.895     -35.000\n",
       "1      Albania     AL          35  1.821  4.546       2.983\n",
       "2      Algeria     DZ          35  2.219  4.435       2.553\n",
       "3    Argentina     AR          45  1.989  5.087      -3.061\n",
       "4      Armenia     AM          42  2.294  4.812       6.000\n",
       "..         ...    ...         ...    ...    ...         ...\n",
       "117    Uruguay     UY          71  1.711  6.329       0.400\n",
       "118    Vietnam     VI          37  1.877  5.084       6.500\n",
       "119      Yemen     YE          15  3.369  2.671       2.113\n",
       "120     Zambia     ZM          34  1.805  4.592       2.021\n",
       "121   Zimbabwe     ZW          24  2.463  3.738      -7.077\n",
       "\n",
       "[122 rows x 6 columns]"
      ]
     },
     "execution_count": 91,
     "metadata": {},
     "output_type": "execute_result"
    }
   ],
   "source": [
    "raw.index = raw.index + 1  # shifting index\n",
    "raw = raw.sort_index()  # sorting by index\n",
    "raw"
   ]
  },
  {
   "cell_type": "markdown",
   "metadata": {},
   "source": [
    "I can sort by a column too. Note how the indices don't change. These are identifying particular rows and move when you sort. "
   ]
  },
  {
   "cell_type": "code",
   "execution_count": 92,
   "metadata": {},
   "outputs": [
    {
     "data": {
      "text/html": [
       "<div>\n",
       "<style scoped>\n",
       "    .dataframe tbody tr th:only-of-type {\n",
       "        vertical-align: middle;\n",
       "    }\n",
       "\n",
       "    .dataframe tbody tr th {\n",
       "        vertical-align: top;\n",
       "    }\n",
       "\n",
       "    .dataframe thead th {\n",
       "        text-align: right;\n",
       "    }\n",
       "</style>\n",
       "<table border=\"1\" class=\"dataframe\">\n",
       "  <thead>\n",
       "    <tr style=\"text-align: right;\">\n",
       "      <th></th>\n",
       "      <th>Country</th>\n",
       "      <th>Abbrev</th>\n",
       "      <th>Corruption</th>\n",
       "      <th>Peace</th>\n",
       "      <th>Legal</th>\n",
       "      <th>GDP Growth</th>\n",
       "    </tr>\n",
       "  </thead>\n",
       "  <tbody>\n",
       "    <tr>\n",
       "      <th>1</th>\n",
       "      <td>Albania</td>\n",
       "      <td>AL</td>\n",
       "      <td>35</td>\n",
       "      <td>1.821</td>\n",
       "      <td>4.546</td>\n",
       "      <td>2.983</td>\n",
       "    </tr>\n",
       "    <tr>\n",
       "      <th>2</th>\n",
       "      <td>Algeria</td>\n",
       "      <td>DZ</td>\n",
       "      <td>35</td>\n",
       "      <td>2.219</td>\n",
       "      <td>4.435</td>\n",
       "      <td>2.553</td>\n",
       "    </tr>\n",
       "    <tr>\n",
       "      <th>3</th>\n",
       "      <td>Argentina</td>\n",
       "      <td>AR</td>\n",
       "      <td>45</td>\n",
       "      <td>1.989</td>\n",
       "      <td>5.087</td>\n",
       "      <td>-3.061</td>\n",
       "    </tr>\n",
       "    <tr>\n",
       "      <th>4</th>\n",
       "      <td>Armenia</td>\n",
       "      <td>AM</td>\n",
       "      <td>42</td>\n",
       "      <td>2.294</td>\n",
       "      <td>4.812</td>\n",
       "      <td>6.000</td>\n",
       "    </tr>\n",
       "    <tr>\n",
       "      <th>5</th>\n",
       "      <td>Australia</td>\n",
       "      <td>AU</td>\n",
       "      <td>77</td>\n",
       "      <td>1.419</td>\n",
       "      <td>8.363</td>\n",
       "      <td>1.713</td>\n",
       "    </tr>\n",
       "    <tr>\n",
       "      <th>...</th>\n",
       "      <td>...</td>\n",
       "      <td>...</td>\n",
       "      <td>...</td>\n",
       "      <td>...</td>\n",
       "      <td>...</td>\n",
       "      <td>...</td>\n",
       "    </tr>\n",
       "    <tr>\n",
       "      <th>0</th>\n",
       "      <td>Venezuela</td>\n",
       "      <td>VE</td>\n",
       "      <td>16</td>\n",
       "      <td>2.671</td>\n",
       "      <td>2.895</td>\n",
       "      <td>-35.000</td>\n",
       "    </tr>\n",
       "    <tr>\n",
       "      <th>118</th>\n",
       "      <td>Vietnam</td>\n",
       "      <td>VI</td>\n",
       "      <td>37</td>\n",
       "      <td>1.877</td>\n",
       "      <td>5.084</td>\n",
       "      <td>6.500</td>\n",
       "    </tr>\n",
       "    <tr>\n",
       "      <th>119</th>\n",
       "      <td>Yemen</td>\n",
       "      <td>YE</td>\n",
       "      <td>15</td>\n",
       "      <td>3.369</td>\n",
       "      <td>2.671</td>\n",
       "      <td>2.113</td>\n",
       "    </tr>\n",
       "    <tr>\n",
       "      <th>120</th>\n",
       "      <td>Zambia</td>\n",
       "      <td>ZM</td>\n",
       "      <td>34</td>\n",
       "      <td>1.805</td>\n",
       "      <td>4.592</td>\n",
       "      <td>2.021</td>\n",
       "    </tr>\n",
       "    <tr>\n",
       "      <th>121</th>\n",
       "      <td>Zimbabwe</td>\n",
       "      <td>ZW</td>\n",
       "      <td>24</td>\n",
       "      <td>2.463</td>\n",
       "      <td>3.738</td>\n",
       "      <td>-7.077</td>\n",
       "    </tr>\n",
       "  </tbody>\n",
       "</table>\n",
       "<p>122 rows × 6 columns</p>\n",
       "</div>"
      ],
      "text/plain": [
       "       Country Abbrev  Corruption  Peace  Legal  GDP Growth\n",
       "1      Albania     AL          35  1.821  4.546       2.983\n",
       "2      Algeria     DZ          35  2.219  4.435       2.553\n",
       "3    Argentina     AR          45  1.989  5.087      -3.061\n",
       "4      Armenia     AM          42  2.294  4.812       6.000\n",
       "5    Australia     AU          77  1.419  8.363       1.713\n",
       "..         ...    ...         ...    ...    ...         ...\n",
       "0    Venezuela     VE          16  2.671  2.895     -35.000\n",
       "118    Vietnam     VI          37  1.877  5.084       6.500\n",
       "119      Yemen     YE          15  3.369  2.671       2.113\n",
       "120     Zambia     ZM          34  1.805  4.592       2.021\n",
       "121   Zimbabwe     ZW          24  2.463  3.738      -7.077\n",
       "\n",
       "[122 rows x 6 columns]"
      ]
     },
     "execution_count": 92,
     "metadata": {},
     "output_type": "execute_result"
    }
   ],
   "source": [
    "raw.sort_values(by=['Country'])"
   ]
  },
  {
   "cell_type": "markdown",
   "metadata": {},
   "source": [
    "By the way, here's another way to add a row."
   ]
  },
  {
   "cell_type": "code",
   "execution_count": 93,
   "metadata": {},
   "outputs": [],
   "source": [
    "# Define the new observation\n",
    "ve_data = {\n",
    "    'Country': ['Venezuela'],\n",
    "    'Abbrev': ['VE'],\n",
    "    'Corruption': [16],\n",
    "    'Peace': [2.671],\n",
    "    'Legal': [2.895],\n",
    "    'GDP Growth': [-35.00]\n",
    "}\n",
    "\n",
    "# Create a new DataFrame with the observation\n",
    "ve_df = pd.DataFrame(ve_data)\n",
    "\n",
    "# Assume 'raw' is your existing DataFrame\n",
    "# Concatenate the new DataFrame to the existing one\n",
    "raw2 = pd.concat([raw, ve_df], ignore_index=True)"
   ]
  },
  {
   "cell_type": "markdown",
   "metadata": {},
   "source": [
    "I got this code from this ChatGPT prompt. Notice how specific I am:\n",
    "\n",
    "> I would like to create a dataframe using pandas with the columns [Country,\tAbbrev, Corruption,\tPeace,\tLegal, GDP Growth]. There is then one observation with the values ['Venezuela', 'VE', 16, 2.671, 2.895, -35.00]. I then want to append or concatenate this dataframe to an existing one called raw with the same columns.\n",
    "\n",
    "Do you see what type *ve_data* is?"
   ]
  },
  {
   "cell_type": "code",
   "execution_count": 94,
   "metadata": {},
   "outputs": [
    {
     "data": {
      "text/plain": [
       "dict"
      ]
     },
     "execution_count": 94,
     "metadata": {},
     "output_type": "execute_result"
    }
   ],
   "source": [
    "type(ve_data)"
   ]
  },
  {
   "cell_type": "markdown",
   "metadata": {},
   "source": [
    "That's a **dictionary**, not a DataFrame. This is why the code turns it into a DataFrame and then uses `pd.concat` to combine them. \n",
    "\n",
    "I can peak at this new data and you'll see the VE observation at the top. "
   ]
  },
  {
   "cell_type": "code",
   "execution_count": 95,
   "metadata": {},
   "outputs": [
    {
     "data": {
      "text/html": [
       "<div>\n",
       "<style scoped>\n",
       "    .dataframe tbody tr th:only-of-type {\n",
       "        vertical-align: middle;\n",
       "    }\n",
       "\n",
       "    .dataframe tbody tr th {\n",
       "        vertical-align: top;\n",
       "    }\n",
       "\n",
       "    .dataframe thead th {\n",
       "        text-align: right;\n",
       "    }\n",
       "</style>\n",
       "<table border=\"1\" class=\"dataframe\">\n",
       "  <thead>\n",
       "    <tr style=\"text-align: right;\">\n",
       "      <th></th>\n",
       "      <th>Country</th>\n",
       "      <th>Abbrev</th>\n",
       "      <th>Corruption</th>\n",
       "      <th>Peace</th>\n",
       "      <th>Legal</th>\n",
       "      <th>GDP Growth</th>\n",
       "    </tr>\n",
       "  </thead>\n",
       "  <tbody>\n",
       "    <tr>\n",
       "      <th>0</th>\n",
       "      <td>Venezuela</td>\n",
       "      <td>VE</td>\n",
       "      <td>16</td>\n",
       "      <td>2.671</td>\n",
       "      <td>2.895</td>\n",
       "      <td>-35.000</td>\n",
       "    </tr>\n",
       "    <tr>\n",
       "      <th>1</th>\n",
       "      <td>Albania</td>\n",
       "      <td>AL</td>\n",
       "      <td>35</td>\n",
       "      <td>1.821</td>\n",
       "      <td>4.546</td>\n",
       "      <td>2.983</td>\n",
       "    </tr>\n",
       "    <tr>\n",
       "      <th>2</th>\n",
       "      <td>Algeria</td>\n",
       "      <td>DZ</td>\n",
       "      <td>35</td>\n",
       "      <td>2.219</td>\n",
       "      <td>4.435</td>\n",
       "      <td>2.553</td>\n",
       "    </tr>\n",
       "    <tr>\n",
       "      <th>3</th>\n",
       "      <td>Argentina</td>\n",
       "      <td>AR</td>\n",
       "      <td>45</td>\n",
       "      <td>1.989</td>\n",
       "      <td>5.087</td>\n",
       "      <td>-3.061</td>\n",
       "    </tr>\n",
       "    <tr>\n",
       "      <th>4</th>\n",
       "      <td>Armenia</td>\n",
       "      <td>AM</td>\n",
       "      <td>42</td>\n",
       "      <td>2.294</td>\n",
       "      <td>4.812</td>\n",
       "      <td>6.000</td>\n",
       "    </tr>\n",
       "  </tbody>\n",
       "</table>\n",
       "</div>"
      ],
      "text/plain": [
       "     Country Abbrev  Corruption  Peace  Legal  GDP Growth\n",
       "0  Venezuela     VE          16  2.671  2.895     -35.000\n",
       "1    Albania     AL          35  1.821  4.546       2.983\n",
       "2    Algeria     DZ          35  2.219  4.435       2.553\n",
       "3  Argentina     AR          45  1.989  5.087      -3.061\n",
       "4    Armenia     AM          42  2.294  4.812       6.000"
      ]
     },
     "execution_count": 95,
     "metadata": {},
     "output_type": "execute_result"
    }
   ],
   "source": [
    "raw2.head()"
   ]
  },
  {
   "cell_type": "markdown",
   "metadata": {},
   "source": [
    "I'm going to go back to the original *raw* data set and use that."
   ]
  },
  {
   "cell_type": "code",
   "execution_count": 96,
   "metadata": {},
   "outputs": [
    {
     "data": {
      "text/html": [
       "<div>\n",
       "<style scoped>\n",
       "    .dataframe tbody tr th:only-of-type {\n",
       "        vertical-align: middle;\n",
       "    }\n",
       "\n",
       "    .dataframe tbody tr th {\n",
       "        vertical-align: top;\n",
       "    }\n",
       "\n",
       "    .dataframe thead th {\n",
       "        text-align: right;\n",
       "    }\n",
       "</style>\n",
       "<table border=\"1\" class=\"dataframe\">\n",
       "  <thead>\n",
       "    <tr style=\"text-align: right;\">\n",
       "      <th></th>\n",
       "      <th>Peace</th>\n",
       "      <th>Legal</th>\n",
       "      <th>GDP Growth</th>\n",
       "    </tr>\n",
       "  </thead>\n",
       "  <tbody>\n",
       "    <tr>\n",
       "      <th>0</th>\n",
       "      <td>1.433454</td>\n",
       "      <td>-2.035285</td>\n",
       "      <td>-8.768659</td>\n",
       "    </tr>\n",
       "    <tr>\n",
       "      <th>1</th>\n",
       "      <td>-0.400182</td>\n",
       "      <td>-0.849636</td>\n",
       "      <td>0.148881</td>\n",
       "    </tr>\n",
       "    <tr>\n",
       "      <th>2</th>\n",
       "      <td>0.458391</td>\n",
       "      <td>-0.929350</td>\n",
       "      <td>0.047927</td>\n",
       "    </tr>\n",
       "    <tr>\n",
       "      <th>3</th>\n",
       "      <td>-0.037769</td>\n",
       "      <td>-0.461122</td>\n",
       "      <td>-1.270112</td>\n",
       "    </tr>\n",
       "    <tr>\n",
       "      <th>4</th>\n",
       "      <td>0.620183</td>\n",
       "      <td>-0.658611</td>\n",
       "      <td>0.857204</td>\n",
       "    </tr>\n",
       "  </tbody>\n",
       "</table>\n",
       "</div>"
      ],
      "text/plain": [
       "      Peace     Legal  GDP Growth\n",
       "0  1.433454 -2.035285   -8.768659\n",
       "1 -0.400182 -0.849636    0.148881\n",
       "2  0.458391 -0.929350    0.047927\n",
       "3 -0.037769 -0.461122   -1.270112\n",
       "4  0.620183 -0.658611    0.857204"
      ]
     },
     "execution_count": 96,
     "metadata": {},
     "output_type": "execute_result"
    }
   ],
   "source": [
    "df_features = raw[['Peace', 'Legal', 'GDP Growth']]\n",
    "\n",
    "df_features_scaled = (df_features - df_features.mean()) / df_features.std()\n",
    "\n",
    "df_features_scaled.head(5)"
   ]
  },
  {
   "cell_type": "code",
   "execution_count": 97,
   "metadata": {},
   "outputs": [
    {
     "data": {
      "image/png": "[encoded data removed]",
      "text/plain": [
       "<Figure size 640x480 with 1 Axes>"
      ]
     },
     "metadata": {},
     "output_type": "display_data"
    }
   ],
   "source": [
    "Ks = range(1, 10)\n",
    "inertia = [KMeans(i).fit(df_features_scaled).inertia_ for i in Ks]\n",
    "\n",
    "fig = plt.figure()\n",
    "plt.plot(Ks, inertia, '-bo')\n",
    "plt.xlabel('Number of clusters')\n",
    "plt.ylabel('Inertia (within-cluster sum of squares)')\n",
    "plt.show()"
   ]
  },
  {
   "cell_type": "markdown",
   "metadata": {},
   "source": [
    "With one new observation, this looks different that what's in the notes. Let's perform clustering, but use 5 clusters, rather than the three from the notes."
   ]
  },
  {
   "cell_type": "code",
   "execution_count": 98,
   "metadata": {},
   "outputs": [
    {
     "name": "stdout",
     "output_type": "stream",
     "text": [
      "inertia for k=5 is 94.76116985448208\n",
      "cluster centers:  [[-1.03672718  1.52765589 -0.15006212]\n",
      " [ 1.418181   -0.79149555  0.31257745]\n",
      " [ 1.4334541  -2.03528534 -8.76865913]\n",
      " [ 0.22258032 -0.48383359 -0.34941107]\n",
      " [-0.4488327  -0.06351852  0.42202611]]\n",
      "cluster labels:  [2 4 3 3 1 0 0 1 3 1 0 4 3 3 4 3 4 1 1 0 1 0 4 1 4 4 4 0 1 0 4 3 1 3 0 1 0\n",
      " 0 3 4 0 4 3 3 1 4 0 1 4 3 0 1 4 3 0 4 4 1 4 3 4 1 3 4 4 4 4 1 1 4 1 3 3 3\n",
      " 3 4 0 0 3 1 0 3 1 4 3 3 1 4 0 0 4 1 4 3 4 4 4 0 4 4 3 4 3 0 0 0 4 3 3 3 3\n",
      " 1 4 1 0 0 0 4 4 1 3 3]\n"
     ]
    }
   ],
   "source": [
    "k = 5\n",
    "kmeans = KMeans(n_clusters=k, random_state=1)\n",
    "kmeans.fit(df_features_scaled)\n",
    "\n",
    "# print inertia & cluster center\n",
    "print(\"inertia for k=5 is\", kmeans.inertia_)\n",
    "print(\"cluster centers: \", kmeans.cluster_centers_)\n",
    "\n",
    "# take a quick look at the result\n",
    "y = kmeans.labels_\n",
    "print(\"cluster labels: \", y)"
   ]
  },
  {
   "cell_type": "markdown",
   "metadata": {},
   "source": [
    "Let's make a plot and see where Venezuala ends up."
   ]
  },
  {
   "cell_type": "code",
   "execution_count": 99,
   "metadata": {},
   "outputs": [
    {
     "data": {
      "image/png": "[encoded data removed]",
      "text/plain": [
       "<Figure size 640x480 with 1 Axes>"
      ]
     },
     "metadata": {},
     "output_type": "display_data"
    }
   ],
   "source": [
    "# set up the color\n",
    "norm = clrs.Normalize(vmin=0.,vmax=y.max() + 0.8)\n",
    "cmap = cm.viridis\n",
    "\n",
    "fig = plt.figure()\n",
    "ax = fig.add_subplot(111, projection='3d')\n",
    "\n",
    "ax.scatter(df_features_scaled.iloc[:,0], df_features_scaled.iloc[:,1], df_features_scaled.iloc[:,2], c=cmap(norm(y)), marker='o')\n",
    "\n",
    "centers = kmeans.cluster_centers_\n",
    "ax.scatter(centers[:, 0], centers[:, 1], c='black', s=100, alpha=0.5)\n",
    "\n",
    "ax.set_xlabel('Peace')\n",
    "ax.set_ylabel('Legal')\n",
    "ax.set_zlabel('GDP Growth')\n",
    "\n",
    "plt.show()"
   ]
  },
  {
   "cell_type": "markdown",
   "metadata": {},
   "source": [
    "See that there are five large grey dots now? Those are the centers of our five clusters, each cluster is denoted by a different color.\n",
    "\n",
    "Let's re-create that graph where each dot is labeled with an abbreviation. I had to edit the list of colors, since we have five clusters, not three. "
   ]
  },
  {
   "cell_type": "code",
   "execution_count": 100,
   "metadata": {},
   "outputs": [
    {
     "data": {
      "image/png": "[encoded data removed]",
      "text/plain": [
       "<Figure size 800x800 with 1 Axes>"
      ]
     },
     "metadata": {},
     "output_type": "display_data"
    },
    {
     "data": {
      "image/png": "[encoded data removed]",
      "text/plain": [
       "<Figure size 800x800 with 1 Axes>"
      ]
     },
     "metadata": {},
     "output_type": "display_data"
    },
    {
     "data": {
      "image/png": "[encoded data removed]",
      "text/plain": [
       "<Figure size 800x800 with 1 Axes>"
      ]
     },
     "metadata": {},
     "output_type": "display_data"
    }
   ],
   "source": [
    "figs = [(0, 1), (0, 2), (1, 2)]\n",
    "labels = ['Peace', 'Legal', 'GDP Growth']\n",
    "colors = ['blue', 'green', 'red', 'purple', 'olive']\n",
    "\n",
    "for i in range(3):\n",
    "    fig = plt.figure(i, figsize=(8, 8))\n",
    "    x_1 = figs[i][0]\n",
    "    x_2 = figs[i][1]\n",
    "    plt.scatter(df_features_scaled.iloc[:, x_1], df_features_scaled.iloc[:, x_2], c=y, s=0, alpha=0)\n",
    "    plt.scatter(centers[:, x_1], centers[:, x_2], c='black', s=200, alpha=0.5)\n",
    "    for j in range(df_features_scaled.shape[0]):\n",
    "        plt.text(df_features_scaled.iloc[j, x_1], df_features_scaled.iloc[j, x_2], raw['Abbrev'].iloc[j], \n",
    "                 color=colors[y[j]], weight='semibold', horizontalalignment = 'center', verticalalignment = 'center')\n",
    "    plt.xlabel(labels[x_1])\n",
    "    plt.ylabel(labels[x_2])\n",
    "\n",
    "plt.show()"
   ]
  },
  {
   "cell_type": "markdown",
   "metadata": {},
   "source": [
    "Yikes! Venezuala is its own cluster!!!!"
   ]
  }
 ],
 "metadata": {
  "kernelspec": {
   "display_name": "Python 3",
   "language": "python",
   "name": "python3"
  },
  "language_info": {
   "codemirror_mode": {
    "name": "ipython",
    "version": 3
   },
   "file_extension": ".py",
   "mimetype": "text/x-python",
   "name": "python",
   "nbconvert_exporter": "python",
   "pygments_lexer": "ipython3",
   "version": "3.12.1"
  }
 },
 "nbformat": 4,
 "nbformat_minor": 2
}
