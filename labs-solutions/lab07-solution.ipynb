{
 "cells": [
  {
   "cell_type": "code",
   "execution_count": 1,
   "metadata": {},
   "outputs": [],
   "source": [
    "# Part 1\n",
    "\n",
    "import numpy as np\n",
    "import pandas as pd\n",
    "\n",
    "from pylab import mpl, plt\n",
    "\n",
    "import scipy.optimize as sco\n",
    "\n",
    "raw = pd.read_csv('https://raw.githubusercontent.com/aaiken1/fin-data-analysis-python/main/data/etf-reproducible-finance.csv',\n",
    "                  index_col=0, parse_dates=True).dropna() "
   ]
  },
  {
   "cell_type": "code",
   "execution_count": 2,
   "metadata": {},
   "outputs": [
    {
     "data": {
      "image/png": "[encoded data removed]",
      "text/plain": [
       "<Figure size 720x576 with 6 Axes>"
      ]
     },
     "metadata": {
      "needs_background": "light"
     },
     "output_type": "display_data"
    }
   ],
   "source": [
    "rets = raw.pct_change().dropna()\n",
    "\n",
    "rets.hist(bins=40, figsize=(10, 8));"
   ]
  },
  {
   "cell_type": "code",
   "execution_count": 3,
   "metadata": {},
   "outputs": [
    {
     "data": {
      "text/html": [
       "<div>\n",
       "<style scoped>\n",
       "    .dataframe tbody tr th:only-of-type {\n",
       "        vertical-align: middle;\n",
       "    }\n",
       "\n",
       "    .dataframe tbody tr th {\n",
       "        vertical-align: top;\n",
       "    }\n",
       "\n",
       "    .dataframe thead th {\n",
       "        text-align: right;\n",
       "    }\n",
       "</style>\n",
       "<table border=\"1\" class=\"dataframe\">\n",
       "  <thead>\n",
       "    <tr style=\"text-align: right;\">\n",
       "      <th></th>\n",
       "      <th>SPY</th>\n",
       "      <th>EFA</th>\n",
       "      <th>IJS</th>\n",
       "      <th>EEM</th>\n",
       "      <th>AGG</th>\n",
       "    </tr>\n",
       "  </thead>\n",
       "  <tbody>\n",
       "    <tr>\n",
       "      <th>count</th>\n",
       "      <td>1258.000000</td>\n",
       "      <td>1258.000000</td>\n",
       "      <td>1258.000000</td>\n",
       "      <td>1258.000000</td>\n",
       "      <td>1258.000000</td>\n",
       "    </tr>\n",
       "    <tr>\n",
       "      <th>mean</th>\n",
       "      <td>0.000610</td>\n",
       "      <td>0.000324</td>\n",
       "      <td>0.000617</td>\n",
       "      <td>0.000196</td>\n",
       "      <td>0.000078</td>\n",
       "    </tr>\n",
       "    <tr>\n",
       "      <th>std</th>\n",
       "      <td>0.007476</td>\n",
       "      <td>0.008985</td>\n",
       "      <td>0.009497</td>\n",
       "      <td>0.011567</td>\n",
       "      <td>0.002033</td>\n",
       "    </tr>\n",
       "    <tr>\n",
       "      <th>min</th>\n",
       "      <td>-0.040885</td>\n",
       "      <td>-0.085860</td>\n",
       "      <td>-0.037902</td>\n",
       "      <td>-0.060702</td>\n",
       "      <td>-0.010933</td>\n",
       "    </tr>\n",
       "    <tr>\n",
       "      <th>25%</th>\n",
       "      <td>-0.002778</td>\n",
       "      <td>-0.003991</td>\n",
       "      <td>-0.005131</td>\n",
       "      <td>-0.006799</td>\n",
       "      <td>-0.001094</td>\n",
       "    </tr>\n",
       "    <tr>\n",
       "      <th>50%</th>\n",
       "      <td>0.000632</td>\n",
       "      <td>0.000480</td>\n",
       "      <td>0.000771</td>\n",
       "      <td>0.000514</td>\n",
       "      <td>0.000180</td>\n",
       "    </tr>\n",
       "    <tr>\n",
       "      <th>75%</th>\n",
       "      <td>0.004652</td>\n",
       "      <td>0.005323</td>\n",
       "      <td>0.006543</td>\n",
       "      <td>0.007371</td>\n",
       "      <td>0.001375</td>\n",
       "    </tr>\n",
       "    <tr>\n",
       "      <th>max</th>\n",
       "      <td>0.039791</td>\n",
       "      <td>0.033264</td>\n",
       "      <td>0.034437</td>\n",
       "      <td>0.049041</td>\n",
       "      <td>0.008395</td>\n",
       "    </tr>\n",
       "  </tbody>\n",
       "</table>\n",
       "</div>"
      ],
      "text/plain": [
       "               SPY          EFA          IJS          EEM          AGG\n",
       "count  1258.000000  1258.000000  1258.000000  1258.000000  1258.000000\n",
       "mean      0.000610     0.000324     0.000617     0.000196     0.000078\n",
       "std       0.007476     0.008985     0.009497     0.011567     0.002033\n",
       "min      -0.040885    -0.085860    -0.037902    -0.060702    -0.010933\n",
       "25%      -0.002778    -0.003991    -0.005131    -0.006799    -0.001094\n",
       "50%       0.000632     0.000480     0.000771     0.000514     0.000180\n",
       "75%       0.004652     0.005323     0.006543     0.007371     0.001375\n",
       "max       0.039791     0.033264     0.034437     0.049041     0.008395"
      ]
     },
     "execution_count": 3,
     "metadata": {},
     "output_type": "execute_result"
    }
   ],
   "source": [
    "rets.describe()"
   ]
  },
  {
   "cell_type": "code",
   "execution_count": 8,
   "metadata": {},
   "outputs": [
    {
     "data": {
      "text/plain": [
       "array([0.2, 0.2, 0.2, 0.2, 0.2])"
      ]
     },
     "execution_count": 8,
     "metadata": {},
     "output_type": "execute_result"
    }
   ],
   "source": [
    "## Part 2\n",
    "\n",
    "noa = 5\n",
    "\n",
    "ann_rets = rets.mean() * 252\n",
    "\n",
    "def port_ret(weights):\n",
    "    return np.sum(ann_rets * weights)\n",
    "\n",
    "def port_vol(weights):\n",
    "    return np.sqrt(np.dot(weights.T, np.dot(rets.cov() * 252, weights)))\n",
    "\n",
    "def min_func_sharpe(weights):  \n",
    "    return -port_ret(weights) / port_vol(weights)  \n",
    "\n",
    "cons = ({'type': 'eq', 'fun': lambda x:  np.sum(x) - 1})  \n",
    "\n",
    "bnds = tuple((0, 1) for x in range(noa))  \n",
    "\n",
    "eweights = np.array(noa * [1. / noa,])  \n",
    "eweights  "
   ]
  },
  {
   "cell_type": "code",
   "execution_count": 9,
   "metadata": {},
   "outputs": [
    {
     "data": {
      "text/plain": [
       "     fun: -1.542449933924015\n",
       "     jac: array([ 6.55353069e-05,  1.96255074e+00,  2.27098018e-02,  3.73111834e+00,\n",
       "       -3.01599503e-05])\n",
       " message: 'Optimization terminated successfully'\n",
       "    nfev: 63\n",
       "     nit: 10\n",
       "    njev: 10\n",
       "  status: 0\n",
       " success: True\n",
       "       x: array([0.31534413, 0.        , 0.        , 0.        , 0.68465587])"
      ]
     },
     "execution_count": 9,
     "metadata": {},
     "output_type": "execute_result"
    }
   ],
   "source": [
    "opt_max_sharpe = sco.minimize(min_func_sharpe, eweights,\n",
    "                    method='SLSQP', bounds=bnds,\n",
    "                    constraints=cons) \n",
    "\n",
    "opt_max_sharpe"
   ]
  },
  {
   "cell_type": "code",
   "execution_count": 10,
   "metadata": {},
   "outputs": [
    {
     "data": {
      "text/plain": [
       "     fun: 0.029385486464908465\n",
       "     jac: array([0.02938449, 0.03610563, 0.02938611, 0.05965359, 0.02938555])\n",
       " message: 'Optimization terminated successfully'\n",
       "    nfev: 48\n",
       "     nit: 8\n",
       "    njev: 8\n",
       "  status: 0\n",
       " success: True\n",
       "       x: array([7.61477833e-02, 0.00000000e+00, 2.49941077e-02, 2.25514052e-17,\n",
       "       8.98858109e-01])"
      ]
     },
     "execution_count": 10,
     "metadata": {},
     "output_type": "execute_result"
    }
   ],
   "source": [
    "## Part 3\n",
    "opt_gmv = sco.minimize(port_vol, eweights,\n",
    "                    method='SLSQP', bounds=bnds,\n",
    "                    constraints=cons)  \n",
    "\n",
    "opt_gmv"
   ]
  },
  {
   "cell_type": "code",
   "execution_count": 16,
   "metadata": {},
   "outputs": [
    {
     "data": {
      "text/plain": [
       "numpy.ndarray"
      ]
     },
     "execution_count": 16,
     "metadata": {},
     "output_type": "execute_result"
    }
   ],
   "source": [
    "type(opt_gmv.x)"
   ]
  },
  {
   "cell_type": "code",
   "execution_count": 17,
   "metadata": {},
   "outputs": [
    {
     "data": {
      "text/plain": [
       "array([7.61477833e-02, 0.00000000e+00, 2.49941077e-02, 2.25514052e-17,\n",
       "       8.98858109e-01])"
      ]
     },
     "execution_count": 17,
     "metadata": {},
     "output_type": "execute_result"
    }
   ],
   "source": [
    "opt_gmv.x"
   ]
  },
  {
   "cell_type": "code",
   "execution_count": 22,
   "metadata": {},
   "outputs": [],
   "source": [
    "## Part 5\n",
    "# Calculate the weighted stock returns\n",
    "\n",
    "rets_max_sharpe_weighted = rets.mul(opt_max_sharpe.x, axis=1)\n",
    "rets_max_sharpe_weighted['portfolio'] = rets_max_sharpe_weighted.sum(axis=1)\n",
    "\n",
    "rets_gmv_weighted = rets.mul(opt_gmv.x, axis=1)\n",
    "rets_gmv_weighted['portfolio'] = rets_gmv_weighted.sum(axis=1)\n"
   ]
  },
  {
   "cell_type": "code",
   "execution_count": 23,
   "metadata": {},
   "outputs": [],
   "source": [
    "## Part 6\n",
    "\n",
    "#Non-Parametric VaRs\n",
    "\n",
    "# Max Sharpe\n",
    "ms_var_95 = np.percentile(rets_max_sharpe_weighted['portfolio'], 100 - 95)\n",
    "ms_var_99 = np.percentile(rets_max_sharpe_weighted['portfolio'], 100 - 99)\n",
    "\n",
    "# GMV\n",
    "gmv_var_95 = np.percentile(rets_gmv_weighted['portfolio'], 100 - 95)\n",
    "gmv_var_99 = np.percentile(rets_gmv_weighted['portfolio'], 100 - 99)\n",
    "\n",
    "#Non-Parametric CVaRs\n",
    "\n",
    "# Max Sharpe\n",
    "ms_cvar_95= rets_max_sharpe_weighted['portfolio'][rets_max_sharpe_weighted['portfolio'] <= ms_var_95].mean()\n",
    "ms_cvar_99= rets_max_sharpe_weighted['portfolio'][rets_max_sharpe_weighted['portfolio'] <= ms_var_99].mean()\n",
    "\n",
    "# GMV\n",
    "gmv_cvar_95= rets_gmv_weighted['portfolio'][rets_gmv_weighted['portfolio'] <= gmv_var_95].mean()\n",
    "gmv_cvar_99= rets_gmv_weighted['portfolio'][rets_gmv_weighted['portfolio'] <= gmv_var_99].mean()\n"
   ]
  },
  {
   "cell_type": "code",
   "execution_count": 26,
   "metadata": {},
   "outputs": [
    {
     "name": "stdout",
     "output_type": "stream",
     "text": [
      "-0.0038548508433902426\n",
      "-0.006916379920662253\n",
      "-0.003061191051704274\n",
      "-0.004827906051528234\n",
      "-0.005709655868769628\n",
      "-0.008939650191994348\n",
      "-0.00429904702685905\n",
      "-0.006682941051893548\n"
     ]
    }
   ],
   "source": [
    "print(ms_var_95)\n",
    "print(ms_var_99)\n",
    "\n",
    "print(gmv_var_95)\n",
    "print(gmv_var_99)\n",
    "\n",
    "print(ms_cvar_95)\n",
    "print(ms_cvar_99)\n",
    "\n",
    "print(gmv_cvar_95)\n",
    "print(gmv_cvar_99)"
   ]
  },
  {
   "cell_type": "code",
   "execution_count": 25,
   "metadata": {},
   "outputs": [
    {
     "data": {
      "image/png": "[encoded data removed]",
      "text/plain": [
       "<Figure size 432x288 with 1 Axes>"
      ]
     },
     "metadata": {
      "needs_background": "light"
     },
     "output_type": "display_data"
    }
   ],
   "source": [
    "plt.hist(rets_max_sharpe_weighted['portfolio'], bins = 100)\n",
    "plt.axvline(x = ms_var_95, c='r', label = \"VaR at 95% Confidence Level\")\n",
    "plt.axvline(x = ms_var_99, c='r', label = \"VaR at 99% Confidence Level\")\n",
    "plt.legend();"
   ]
  },
  {
   "cell_type": "code",
   "execution_count": 27,
   "metadata": {},
   "outputs": [
    {
     "data": {
      "image/png": "[encoded data removed]",
      "text/plain": [
       "<Figure size 432x288 with 1 Axes>"
      ]
     },
     "metadata": {
      "needs_background": "light"
     },
     "output_type": "display_data"
    }
   ],
   "source": [
    "plt.hist(rets_gmv_weighted['portfolio'], bins = 100)\n",
    "plt.axvline(x = gmv_var_95, c='r', label = \"VaR at 95% Confidence Level\")\n",
    "plt.axvline(x = gmv_var_99, c='r', label = \"VaR at 99% Confidence Level\")\n",
    "plt.legend();"
   ]
  }
 ],
 "metadata": {
  "interpreter": {
   "hash": "b67b392f8c699abfccff34ffff3abf55b26d6520ea7ac337064f990a3d8607af"
  },
  "kernelspec": {
   "display_name": "Python 3.9.7 ('base')",
   "language": "python",
   "name": "python3"
  },
  "language_info": {
   "codemirror_mode": {
    "name": "ipython",
    "version": 3
   },
   "file_extension": ".py",
   "mimetype": "text/x-python",
   "name": "python",
   "nbconvert_exporter": "python",
   "pygments_lexer": "ipython3",
   "version": "3.9.7"
  },
  "orig_nbformat": 4
 },
 "nbformat": 4,
 "nbformat_minor": 2
}
