{
 "cells": [
  {
   "cell_type": "code",
   "execution_count": 1,
   "metadata": {},
   "outputs": [
    {
     "name": "stdout",
     "output_type": "stream",
     "text": [
      "<class 'pandas.core.frame.DataFrame'>\n",
      "RangeIndex: 529 entries, 0 to 528\n",
      "Data columns (total 4 columns):\n",
      " #   Column       Non-Null Count  Dtype \n",
      "---  ------       --------------  ----- \n",
      " 0   ticker       529 non-null    object\n",
      " 1   caldt        529 non-null    int64 \n",
      " 2   crsp_fundno  529 non-null    int64 \n",
      " 3   mret         528 non-null    object\n",
      "dtypes: int64(2), object(2)\n",
      "memory usage: 16.7+ KB\n"
     ]
    }
   ],
   "source": [
    "# Part 1\n",
    "\n",
    "# Set-up, data import, and check\n",
    "\n",
    "import numpy as np\n",
    "import pandas as pd\n",
    "import scipy.optimize as sco\n",
    "\n",
    "from pypfopt.efficient_frontier import EfficientFrontier\n",
    "from pypfopt import risk_models, expected_returns, plotting\n",
    "\n",
    "mf = pd.read_csv('https://raw.githubusercontent.com/aaiken1/fin-data-analysis-python/main/data/mutual_funds.csv')\n",
    "\n",
    "mf.info()"
   ]
  },
  {
   "cell_type": "markdown",
   "metadata": {},
   "source": [
    "VMVFX is forms portfolios that try to minimize the variance of the portfolio of stocks. This is related to the **low risk** style-factor. Essentially, lower risk portfolios do better than you would expect, based on models like the CAPM. In other words, you get more return then you'd think. "
   ]
  },
  {
   "cell_type": "code",
   "execution_count": 2,
   "metadata": {},
   "outputs": [],
   "source": [
    "# Part 2\n",
    "\n",
    "mf['mret'] = pd.to_numeric(mf['mret'], downcast='float', errors='coerce')\n"
   ]
  },
  {
   "cell_type": "code",
   "execution_count": 3,
   "metadata": {},
   "outputs": [
    {
     "data": {
      "text/plain": [
       "ticker\n",
       "VBMFX    0.002848\n",
       "VMVFX    0.007720\n",
       "VTMGX    0.006345\n",
       "VTSMX    0.012486\n",
       "Name: mret, dtype: float32"
      ]
     },
     "execution_count": 3,
     "metadata": {},
     "output_type": "execute_result"
    }
   ],
   "source": [
    "# Part 3\n",
    "\n",
    "mf.groupby('ticker')['mret'].mean()"
   ]
  },
  {
   "cell_type": "code",
   "execution_count": 4,
   "metadata": {},
   "outputs": [],
   "source": [
    "mf = mf.drop('crsp_fundno', axis=1)"
   ]
  },
  {
   "cell_type": "code",
   "execution_count": 5,
   "metadata": {},
   "outputs": [],
   "source": [
    "mf = pd.pivot(mf, values='mret', columns='ticker', index='caldt').dropna()\n"
   ]
  },
  {
   "cell_type": "code",
   "execution_count": 6,
   "metadata": {},
   "outputs": [
    {
     "data": {
      "text/plain": [
       "ticker\n",
       "VBMFX    0.030438\n",
       "VMVFX    0.092639\n",
       "VTMGX    0.072681\n",
       "VTSMX    0.148794\n",
       "dtype: float32"
      ]
     },
     "execution_count": 6,
     "metadata": {},
     "output_type": "execute_result"
    }
   ],
   "source": [
    "ann_rets = mf.mean() * 12\n",
    "ann_rets"
   ]
  },
  {
   "cell_type": "code",
   "execution_count": 7,
   "metadata": {},
   "outputs": [
    {
     "data": {
      "text/plain": [
       "ticker\n",
       "VBMFX    0.031601\n",
       "VMVFX    0.101537\n",
       "VTMGX    0.142306\n",
       "VTSMX    0.142804\n",
       "dtype: float32"
      ]
     },
     "execution_count": 7,
     "metadata": {},
     "output_type": "execute_result"
    }
   ],
   "source": [
    "ann_stdev = mf.std() * np.sqrt(12)\n",
    "ann_stdev"
   ]
  },
  {
   "cell_type": "code",
   "execution_count": 8,
   "metadata": {},
   "outputs": [
    {
     "data": {
      "text/html": [
       "<div>\n",
       "<style scoped>\n",
       "    .dataframe tbody tr th:only-of-type {\n",
       "        vertical-align: middle;\n",
       "    }\n",
       "\n",
       "    .dataframe tbody tr th {\n",
       "        vertical-align: top;\n",
       "    }\n",
       "\n",
       "    .dataframe thead th {\n",
       "        text-align: right;\n",
       "    }\n",
       "</style>\n",
       "<table border=\"1\" class=\"dataframe\">\n",
       "  <thead>\n",
       "    <tr style=\"text-align: right;\">\n",
       "      <th>ticker</th>\n",
       "      <th>VBMFX</th>\n",
       "      <th>VMVFX</th>\n",
       "      <th>VTMGX</th>\n",
       "      <th>VTSMX</th>\n",
       "    </tr>\n",
       "    <tr>\n",
       "      <th>ticker</th>\n",
       "      <th></th>\n",
       "      <th></th>\n",
       "      <th></th>\n",
       "      <th></th>\n",
       "    </tr>\n",
       "  </thead>\n",
       "  <tbody>\n",
       "    <tr>\n",
       "      <th>VBMFX</th>\n",
       "      <td>0.000999</td>\n",
       "      <td>0.000571</td>\n",
       "      <td>0.000195</td>\n",
       "      <td>0.000011</td>\n",
       "    </tr>\n",
       "    <tr>\n",
       "      <th>VMVFX</th>\n",
       "      <td>0.000571</td>\n",
       "      <td>0.010310</td>\n",
       "      <td>0.011837</td>\n",
       "      <td>0.012860</td>\n",
       "    </tr>\n",
       "    <tr>\n",
       "      <th>VTMGX</th>\n",
       "      <td>0.000195</td>\n",
       "      <td>0.011837</td>\n",
       "      <td>0.020251</td>\n",
       "      <td>0.017865</td>\n",
       "    </tr>\n",
       "    <tr>\n",
       "      <th>VTSMX</th>\n",
       "      <td>0.000011</td>\n",
       "      <td>0.012860</td>\n",
       "      <td>0.017865</td>\n",
       "      <td>0.020393</td>\n",
       "    </tr>\n",
       "  </tbody>\n",
       "</table>\n",
       "</div>"
      ],
      "text/plain": [
       "ticker     VBMFX     VMVFX     VTMGX     VTSMX\n",
       "ticker                                        \n",
       "VBMFX   0.000999  0.000571  0.000195  0.000011\n",
       "VMVFX   0.000571  0.010310  0.011837  0.012860\n",
       "VTMGX   0.000195  0.011837  0.020251  0.017865\n",
       "VTSMX   0.000011  0.012860  0.017865  0.020393"
      ]
     },
     "execution_count": 8,
     "metadata": {},
     "output_type": "execute_result"
    }
   ],
   "source": [
    "ann_cov = mf.cov() * 12\n",
    "ann_cov"
   ]
  },
  {
   "cell_type": "code",
   "execution_count": 9,
   "metadata": {},
   "outputs": [
    {
     "data": {
      "text/html": [
       "<div>\n",
       "<style scoped>\n",
       "    .dataframe tbody tr th:only-of-type {\n",
       "        vertical-align: middle;\n",
       "    }\n",
       "\n",
       "    .dataframe tbody tr th {\n",
       "        vertical-align: top;\n",
       "    }\n",
       "\n",
       "    .dataframe thead th {\n",
       "        text-align: right;\n",
       "    }\n",
       "</style>\n",
       "<table border=\"1\" class=\"dataframe\">\n",
       "  <thead>\n",
       "    <tr style=\"text-align: right;\">\n",
       "      <th>ticker</th>\n",
       "      <th>VBMFX</th>\n",
       "      <th>VMVFX</th>\n",
       "      <th>VTMGX</th>\n",
       "      <th>VTSMX</th>\n",
       "    </tr>\n",
       "    <tr>\n",
       "      <th>ticker</th>\n",
       "      <th></th>\n",
       "      <th></th>\n",
       "      <th></th>\n",
       "      <th></th>\n",
       "    </tr>\n",
       "  </thead>\n",
       "  <tbody>\n",
       "    <tr>\n",
       "      <th>VBMFX</th>\n",
       "      <td>1.000000</td>\n",
       "      <td>0.177897</td>\n",
       "      <td>0.043343</td>\n",
       "      <td>0.002341</td>\n",
       "    </tr>\n",
       "    <tr>\n",
       "      <th>VMVFX</th>\n",
       "      <td>0.177897</td>\n",
       "      <td>1.000000</td>\n",
       "      <td>0.819231</td>\n",
       "      <td>0.886880</td>\n",
       "    </tr>\n",
       "    <tr>\n",
       "      <th>VTMGX</th>\n",
       "      <td>0.043343</td>\n",
       "      <td>0.819231</td>\n",
       "      <td>1.000000</td>\n",
       "      <td>0.879125</td>\n",
       "    </tr>\n",
       "    <tr>\n",
       "      <th>VTSMX</th>\n",
       "      <td>0.002341</td>\n",
       "      <td>0.886880</td>\n",
       "      <td>0.879125</td>\n",
       "      <td>1.000000</td>\n",
       "    </tr>\n",
       "  </tbody>\n",
       "</table>\n",
       "</div>"
      ],
      "text/plain": [
       "ticker     VBMFX     VMVFX     VTMGX     VTSMX\n",
       "ticker                                        \n",
       "VBMFX   1.000000  0.177897  0.043343  0.002341\n",
       "VMVFX   0.177897  1.000000  0.819231  0.886880\n",
       "VTMGX   0.043343  0.819231  1.000000  0.879125\n",
       "VTSMX   0.002341  0.886880  0.879125  1.000000"
      ]
     },
     "execution_count": 9,
     "metadata": {},
     "output_type": "execute_result"
    }
   ],
   "source": [
    "ann_cor = mf.corr()\n",
    "ann_cor"
   ]
  },
  {
   "cell_type": "code",
   "execution_count": 10,
   "metadata": {},
   "outputs": [
    {
     "data": {
      "text/plain": [
       "     fun: -1.2255838704333357\n",
       "     jac: array([-0.29969248,  0.29983251,  1.10460117,  0.2996778 ])\n",
       " message: 'Optimization terminated successfully'\n",
       "    nfev: 30\n",
       "     nit: 6\n",
       "    njev: 6\n",
       "  status: 0\n",
       " success: True\n",
       "       x: array([0.5       , 0.04741914, 0.        , 0.45258086])"
      ]
     },
     "execution_count": 10,
     "metadata": {},
     "output_type": "execute_result"
    }
   ],
   "source": [
    "# Part 5\n",
    "\n",
    "weights = np.array([0.25, 0.25, 0.25, 0.25])\n",
    "\n",
    "def port_ret(weights):\n",
    "    return np.sum(ann_rets * weights)\n",
    "\n",
    "def port_vol(weights):\n",
    "    return np.sqrt(np.dot(weights.T, np.dot(ann_cov, weights)))\n",
    "\n",
    "def min_func_sharpe(weights):  \n",
    "    return -port_ret(weights) / port_vol(weights)  \n",
    "\n",
    "cons = ({'type': 'eq', 'fun': lambda x:  np.sum(x) - 1})  \n",
    "bnds = tuple((0, 0.5) for x in range(4))  \n",
    "\n",
    "opts = sco.minimize(min_func_sharpe, weights,\n",
    "                    method='SLSQP', bounds=bnds,\n",
    "                    constraints=cons) \n",
    "\n",
    "opts\n"
   ]
  },
  {
   "cell_type": "code",
   "execution_count": 11,
   "metadata": {},
   "outputs": [
    {
     "data": {
      "text/plain": [
       "0.08695346399395425"
      ]
     },
     "execution_count": 11,
     "metadata": {},
     "output_type": "execute_result"
    }
   ],
   "source": [
    "port_ret(opts['x']) "
   ]
  },
  {
   "cell_type": "code",
   "execution_count": 12,
   "metadata": {},
   "outputs": [
    {
     "data": {
      "text/plain": [
       "0.07094860343030598"
      ]
     },
     "execution_count": 12,
     "metadata": {},
     "output_type": "execute_result"
    }
   ],
   "source": [
    "port_vol(opts['x'])  "
   ]
  },
  {
   "cell_type": "code",
   "execution_count": 13,
   "metadata": {},
   "outputs": [
    {
     "data": {
      "text/plain": [
       "OrderedDict([('VBMFX', 0.5),\n",
       "             ('VMVFX', 0.0471988505521005),\n",
       "             ('VTMGX', 0.0),\n",
       "             ('VTSMX', 0.4528011494478995)])"
      ]
     },
     "execution_count": 13,
     "metadata": {},
     "output_type": "execute_result"
    }
   ],
   "source": [
    "# Part 6\n",
    "\n",
    "ef = EfficientFrontier(ann_rets, ann_cov, weight_bounds=(0, 0.5))\n",
    "\n",
    "raw_weights = ef.max_sharpe(risk_free_rate = 0)\n",
    "raw_weights\n"
   ]
  }
 ],
 "metadata": {
  "interpreter": {
   "hash": "b67b392f8c699abfccff34ffff3abf55b26d6520ea7ac337064f990a3d8607af"
  },
  "kernelspec": {
   "display_name": "Python 3.9.7 ('base')",
   "language": "python",
   "name": "python3"
  },
  "language_info": {
   "codemirror_mode": {
    "name": "ipython",
    "version": 3
   },
   "file_extension": ".py",
   "mimetype": "text/x-python",
   "name": "python",
   "nbconvert_exporter": "python",
   "pygments_lexer": "ipython3",
   "version": "3.9.7"
  },
  "orig_nbformat": 4
 },
 "nbformat": 4,
 "nbformat_minor": 2
}
