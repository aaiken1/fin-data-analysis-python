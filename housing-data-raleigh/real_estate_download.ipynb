{
 "cells": [
  {
   "cell_type": "code",
   "execution_count": 13,
   "metadata": {},
   "outputs": [],
   "source": [
    "import requests\n",
    "import flatten_json\n",
    "import pandas as pd\n",
    "\n",
    "from pandas.core.common import flatten\n"
   ]
  },
  {
   "cell_type": "code",
   "execution_count": 68,
   "metadata": {},
   "outputs": [],
   "source": [
    "\n",
    "#https://rapidapi.com/datascraper/api/us-real-estate/\n",
    "\n",
    "url = \"https://us-real-estate.p.rapidapi.com/v2/for-sale\"\n",
    "\n",
    "state = \"NC\"\n",
    "city = \"Raleigh\"\n",
    "price_min = 1000001\n",
    "price_max = 100000000\n",
    "\n",
    "querystring = {\"offset\":\"0\", \"limit\":\"200\", \"state_code\":state, \"city\":city, \"sort\":\"newest\", \"price_min\":price_min, \"price_max\":price_max}\n",
    "\n",
    "headers = {\n",
    "\t\"X-RapidAPI-Host\": \"us-real-estate.p.rapidapi.com\",\n",
    "\t\"X-RapidAPI-Key\": \"API HERE\"\n",
    "}\n",
    "\n",
    "data = requests.request(\"GET\", url, headers=headers, params=querystring)\n"
   ]
  },
  {
   "cell_type": "code",
   "execution_count": 69,
   "metadata": {},
   "outputs": [],
   "source": [
    "data_json = data.json()"
   ]
  },
  {
   "cell_type": "code",
   "execution_count": 70,
   "metadata": {},
   "outputs": [],
   "source": [
    "# Create df of search results from json\n",
    "data_json_sub = data_json['data']['home_search']['results']\n",
    "df = pd.json_normalize(data_json_sub)\n"
   ]
  },
  {
   "cell_type": "code",
   "execution_count": 71,
   "metadata": {},
   "outputs": [
    {
     "name": "stdout",
     "output_type": "stream",
     "text": [
      "Num of rows: 96\n",
      "Num of cols: 67\n"
     ]
    }
   ],
   "source": [
    "# view data\n",
    "print('Num of rows:', len(df))\n",
    "print('Num of cols:', len(df.columns))"
   ]
  },
  {
   "cell_type": "code",
   "execution_count": 72,
   "metadata": {},
   "outputs": [],
   "source": [
    "# Export to CSV\n",
    "file_name = 'raleigh_for_sale_' + str(price_min) + '_' + str(price_max) + '.csv'\n",
    "df.to_csv(file_name)\n"
   ]
  }
 ],
 "metadata": {
  "interpreter": {
   "hash": "b67b392f8c699abfccff34ffff3abf55b26d6520ea7ac337064f990a3d8607af"
  },
  "kernelspec": {
   "display_name": "Python 3.9.7 ('base')",
   "language": "python",
   "name": "python3"
  },
  "language_info": {
   "codemirror_mode": {
    "name": "ipython",
    "version": 3
   },
   "file_extension": ".py",
   "mimetype": "text/x-python",
   "name": "python",
   "nbconvert_exporter": "python",
   "pygments_lexer": "ipython3",
   "version": "3.9.7"
  },
  "orig_nbformat": 4
 },
 "nbformat": 4,
 "nbformat_minor": 2
}
